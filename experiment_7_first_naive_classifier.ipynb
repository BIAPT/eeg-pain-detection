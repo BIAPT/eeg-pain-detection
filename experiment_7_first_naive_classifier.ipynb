{
 "cells": [
  {
   "cell_type": "markdown",
   "metadata": {},
   "source": [
    "# Experiment 7: First Naive Classifier\n",
    "In this experiment we will be using the very simple processing pipeline from [commit #7](https://github.com/BIAPT/eeg-pain-detection/commits/master) to put together all the plumbing necessary to go from raw data to a trained model.\n",
    "\n",
    "The model will only be trained on one feature: **Average Alpha Power Across All Channels**\n",
    "This feature was choosen out of analysis convenience, a better feature would have been power at difference hemisphere however I would have had to deal with missing channels and such. \n",
    "\n",
    "The code that will be presented below is very easy to augment by feeding more feature in the data.csv file made by the `preprocessing_pipeline.m` file.\n",
    "\n",
    "The classifier that will be used here is the very simple [linear support vector machine from sklearn](https://scikit-learn.org/stable/modules/generated/sklearn.svm.LinearSVC.html).\n",
    "\n",
    "The cross validation scheme we will be using is a leave one subject out cross validation. We'll assess the classifier performance using accuracy (not ideal, but will do for now). "
   ]
  },
  {
   "cell_type": "code",
   "execution_count": 25,
   "metadata": {},
   "outputs": [
    {
     "name": "stdout",
     "output_type": "stream",
     "text": [
      "0.54041248606466\n"
     ]
    }
   ],
   "source": [
    "import numpy as np\n",
    "import pandas as pd\n",
    "from sklearn.svm import SVC\n",
    "from sklearn.metrics import accuracy_score\n",
    "\n",
    "# Setup\n",
    "input_filename = '/media/yacine/Data/pain_and_eeg/machine_learning_data/data.csv'\n",
    "\n",
    "# Experimental Variables\n",
    "is_healthy = 1\n",
    "clf = SVC(gamma='auto')\n",
    "\n",
    "# Load the data and select the right population\n",
    "df = pd.read_csv(input_filename) \n",
    "df = df[df.type == is_healthy]\n",
    "\n",
    "\n",
    "p_ids = df.id.unique();\n",
    "accuracies = []\n",
    "\n",
    "for p_id in p_ids:\n",
    "    mask = df.id.isin([p_id])\n",
    "    \n",
    "    df_test = df[mask]\n",
    "    df_train = df[~mask]\n",
    "    \n",
    "    \n",
    "    # Here we are using reshape because we have only one feature and the fit function is looking for 2d array\n",
    "    X_train = df_train.avg_alpha_power.to_numpy().reshape(-1,1)\n",
    "    y_train = df_train.is_hot\n",
    "    X_test = df_test.avg_alpha_power.to_numpy().reshape(-1,1)\n",
    "    y_test = df_test.is_hot\n",
    "    \n",
    "    clf.fit(X_train, y_train)\n",
    "    y_pred = clf.predict(X_test)\n",
    "    \n",
    "    accuracy = accuracy_score(y_test, y_pred)\n",
    "    accuracies.append(accuracy)\n",
    "    \n",
    "print(np.mean(accuracies))    "
   ]
  }
 ],
 "metadata": {
  "kernelspec": {
   "display_name": "Python 3",
   "language": "python",
   "name": "python3"
  },
  "language_info": {
   "codemirror_mode": {
    "name": "ipython",
    "version": 3
   },
   "file_extension": ".py",
   "mimetype": "text/x-python",
   "name": "python",
   "nbconvert_exporter": "python",
   "pygments_lexer": "ipython3",
   "version": "3.7.4"
  }
 },
 "nbformat": 4,
 "nbformat_minor": 2
}
