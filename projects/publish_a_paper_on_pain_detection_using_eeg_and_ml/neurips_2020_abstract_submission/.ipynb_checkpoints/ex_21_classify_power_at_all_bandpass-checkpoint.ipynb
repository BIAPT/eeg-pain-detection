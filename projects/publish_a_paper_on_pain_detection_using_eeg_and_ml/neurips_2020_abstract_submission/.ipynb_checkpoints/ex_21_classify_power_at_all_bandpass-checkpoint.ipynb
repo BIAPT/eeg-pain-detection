{
 "cells": [
  {
   "cell_type": "markdown",
   "metadata": {},
   "source": [
    "# Yacine Mahdid May 24 2020\n",
    "In this notebook the goal is to augment the analysis by using power feature at all bandpass of interest. This analysis has four steps:\n",
    "1. [x] Use LOSO+Model selection to find the average accuracies for both healthy and MSK with all features\n",
    "2. [X] Find which model is the best one using all the params and get these parameters\n",
    "3. [X] Train the final model on the best parameters (This doesn't have to be automated)\n",
    "4. [X] Visualize the feature weights with corresponding labels as a barplot\n",
    "\n",
    "## Features in this analysis\n",
    "The feature listed belows are for all the 19 channels\n",
    "- Power at Delta (0.5 - 4Hz)\n",
    "- Power at Theta (4 - 8Hz)\n",
    "- Power at Alpha (8 - 14Hz)\n",
    "- Power at Beta (14 - 32Hz)\n",
    "\n",
    "\n",
    "## Classifier In Gridsearch\n",
    "- Linear SVM\n",
    "- Linear Regression\n",
    "- Decision Trees"
   ]
  },
  {
   "cell_type": "code",
   "execution_count": 5,
   "metadata": {
    "scrolled": true
   },
   "outputs": [],
   "source": [
    "import numpy as np\n",
    "import pandas as pd\n",
    "\n",
    "import seaborn as sns\n",
    "import matplotlib.pyplot as plt\n",
    "\n",
    "from sklearn.linear_model import LogisticRegression\n",
    "from sklearn.tree import DecisionTreeClassifier\n",
    "from sklearn.svm import SVC\n",
    "\n",
    "from ml_tools.classification import classify_loso_model_selection\n",
    "from ml_tools.classification import classify_loso\n",
    "from ml_tools.classification import create_gridsearch_pipeline\n",
    "from ml_tools.pre_processing import pre_process\n",
    "\n",
    "from sklearn.pipeline import Pipeline\n",
    "from sklearn.preprocessing import StandardScaler\n",
    "from sklearn.impute import SimpleImputer\n",
    "\n",
    "def plot_acc(group, accuracies, participant_type):\n",
    "    # Plot of Each Participant Accuracies in the Cross Validation Scheme\n",
    "    p_id = np.unique(group)\n",
    "    sns.barplot(x=p_id, y=accuracies, palette=\"deep\").set_title(f\"Accuracy for each participant in {participant_type}\")\n",
    "    plt.show()\n",
    "\n",
    "def find_best_model(best_params):\n",
    "    models_occurence = {}\n",
    "    for param in best_params:\n",
    "        clf = param['clf']\n",
    "        if isinstance(clf, LogisticRegression):\n",
    "            key = \"LOG\" + \"_penality=\" + str(clf.penalty) + \"_C=\" + str(clf.C)\n",
    "        elif isinstance(clf, SVC):\n",
    "            key = \"SVC\" + \"_kernel=linear_C=\" + str(clf.C)\n",
    "        elif isinstance(clf, DecisionTreeClassifier):\n",
    "            key = \"DEC\" + \"_criterion\" + str(clf.criterion)\n",
    "\n",
    "        if key not in models_occurence:\n",
    "            models_occurence[key] = 1\n",
    "        else:\n",
    "            models_occurence[key] = models_occurence[key] + 1\n",
    "\n",
    "    return models_occurence\n",
    "# Global Experimental Variable\n",
    "input_filename = '/media/yacine/Data/pain_and_eeg/machine_learning_data/features_litterature.csv'"
   ]
  },
  {
   "cell_type": "code",
   "execution_count": 8,
   "metadata": {},
   "outputs": [
    {
     "name": "stdout",
     "output_type": "stream",
     "text": [
      "Number of folds left: 12\n"
     ]
    },
    {
     "name": "stderr",
     "output_type": "stream",
     "text": [
      "/home/yacine/anaconda3/lib/python3.7/site-packages/sklearn/model_selection/_search.py:814: DeprecationWarning: The default of the `iid` parameter will change from True to False in version 0.22 and will be removed in 0.24. This will change numeric results when test-set sizes are unequal.\n",
      "  DeprecationWarning)\n"
     ]
    },
    {
     "name": "stdout",
     "output_type": "stream",
     "text": [
      "Number of folds left: 11\n"
     ]
    },
    {
     "name": "stderr",
     "output_type": "stream",
     "text": [
      "/home/yacine/anaconda3/lib/python3.7/site-packages/sklearn/model_selection/_search.py:814: DeprecationWarning: The default of the `iid` parameter will change from True to False in version 0.22 and will be removed in 0.24. This will change numeric results when test-set sizes are unequal.\n",
      "  DeprecationWarning)\n"
     ]
    },
    {
     "name": "stdout",
     "output_type": "stream",
     "text": [
      "Number of folds left: 10\n"
     ]
    },
    {
     "name": "stderr",
     "output_type": "stream",
     "text": [
      "/home/yacine/anaconda3/lib/python3.7/site-packages/sklearn/model_selection/_search.py:814: DeprecationWarning: The default of the `iid` parameter will change from True to False in version 0.22 and will be removed in 0.24. This will change numeric results when test-set sizes are unequal.\n",
      "  DeprecationWarning)\n"
     ]
    },
    {
     "name": "stdout",
     "output_type": "stream",
     "text": [
      "Number of folds left: 9\n"
     ]
    },
    {
     "name": "stderr",
     "output_type": "stream",
     "text": [
      "/home/yacine/anaconda3/lib/python3.7/site-packages/sklearn/model_selection/_search.py:814: DeprecationWarning: The default of the `iid` parameter will change from True to False in version 0.22 and will be removed in 0.24. This will change numeric results when test-set sizes are unequal.\n",
      "  DeprecationWarning)\n"
     ]
    },
    {
     "name": "stdout",
     "output_type": "stream",
     "text": [
      "Number of folds left: 8\n"
     ]
    },
    {
     "name": "stderr",
     "output_type": "stream",
     "text": [
      "/home/yacine/anaconda3/lib/python3.7/site-packages/sklearn/model_selection/_search.py:814: DeprecationWarning: The default of the `iid` parameter will change from True to False in version 0.22 and will be removed in 0.24. This will change numeric results when test-set sizes are unequal.\n",
      "  DeprecationWarning)\n"
     ]
    },
    {
     "name": "stdout",
     "output_type": "stream",
     "text": [
      "Number of folds left: 7\n"
     ]
    },
    {
     "name": "stderr",
     "output_type": "stream",
     "text": [
      "/home/yacine/anaconda3/lib/python3.7/site-packages/sklearn/model_selection/_search.py:814: DeprecationWarning: The default of the `iid` parameter will change from True to False in version 0.22 and will be removed in 0.24. This will change numeric results when test-set sizes are unequal.\n",
      "  DeprecationWarning)\n"
     ]
    },
    {
     "name": "stdout",
     "output_type": "stream",
     "text": [
      "Number of folds left: 6\n"
     ]
    },
    {
     "name": "stderr",
     "output_type": "stream",
     "text": [
      "/home/yacine/anaconda3/lib/python3.7/site-packages/sklearn/model_selection/_search.py:814: DeprecationWarning: The default of the `iid` parameter will change from True to False in version 0.22 and will be removed in 0.24. This will change numeric results when test-set sizes are unequal.\n",
      "  DeprecationWarning)\n"
     ]
    },
    {
     "name": "stdout",
     "output_type": "stream",
     "text": [
      "Number of folds left: 5\n"
     ]
    },
    {
     "name": "stderr",
     "output_type": "stream",
     "text": [
      "/home/yacine/anaconda3/lib/python3.7/site-packages/sklearn/model_selection/_search.py:814: DeprecationWarning: The default of the `iid` parameter will change from True to False in version 0.22 and will be removed in 0.24. This will change numeric results when test-set sizes are unequal.\n",
      "  DeprecationWarning)\n"
     ]
    },
    {
     "name": "stdout",
     "output_type": "stream",
     "text": [
      "Number of folds left: 4\n"
     ]
    },
    {
     "name": "stderr",
     "output_type": "stream",
     "text": [
      "/home/yacine/anaconda3/lib/python3.7/site-packages/sklearn/model_selection/_search.py:814: DeprecationWarning: The default of the `iid` parameter will change from True to False in version 0.22 and will be removed in 0.24. This will change numeric results when test-set sizes are unequal.\n",
      "  DeprecationWarning)\n"
     ]
    },
    {
     "name": "stdout",
     "output_type": "stream",
     "text": [
      "Number of folds left: 3\n"
     ]
    },
    {
     "name": "stderr",
     "output_type": "stream",
     "text": [
      "/home/yacine/anaconda3/lib/python3.7/site-packages/sklearn/model_selection/_search.py:814: DeprecationWarning: The default of the `iid` parameter will change from True to False in version 0.22 and will be removed in 0.24. This will change numeric results when test-set sizes are unequal.\n",
      "  DeprecationWarning)\n"
     ]
    },
    {
     "name": "stdout",
     "output_type": "stream",
     "text": [
      "Number of folds left: 2\n"
     ]
    },
    {
     "name": "stderr",
     "output_type": "stream",
     "text": [
      "/home/yacine/anaconda3/lib/python3.7/site-packages/sklearn/model_selection/_search.py:814: DeprecationWarning: The default of the `iid` parameter will change from True to False in version 0.22 and will be removed in 0.24. This will change numeric results when test-set sizes are unequal.\n",
      "  DeprecationWarning)\n"
     ]
    },
    {
     "name": "stdout",
     "output_type": "stream",
     "text": [
      "Number of folds left: 1\n",
      "Accuracies:  [0.6363636363636364, 1.0, 0.5555555555555556, 0.9047619047619048, 0.875, 0.5652173913043478, 0.9, 0.3888888888888889, 0.5652173913043478, 0.7727272727272727, 0.7391304347826086, 0.875]\n"
     ]
    },
    {
     "name": "stderr",
     "output_type": "stream",
     "text": [
      "/home/yacine/anaconda3/lib/python3.7/site-packages/sklearn/model_selection/_search.py:814: DeprecationWarning: The default of the `iid` parameter will change from True to False in version 0.22 and will be removed in 0.24. This will change numeric results when test-set sizes are unequal.\n",
      "  DeprecationWarning)\n"
     ]
    },
    {
     "data": {
      "image/png": "[encoded data removed]",
      "text/plain": [
       "<Figure size 432x288 with 1 Axes>"
      ]
     },
     "metadata": {
      "needs_background": "light"
     },
     "output_type": "display_data"
    },
    {
     "name": "stdout",
     "output_type": "stream",
     "text": [
      "Mean Accuracies: 0.7314885396407135\n"
     ]
    },
    {
     "data": {
      "text/html": [
       "<div>\n",
       "<style scoped>\n",
       "    .dataframe tbody tr th:only-of-type {\n",
       "        vertical-align: middle;\n",
       "    }\n",
       "\n",
       "    .dataframe tbody tr th {\n",
       "        vertical-align: top;\n",
       "    }\n",
       "\n",
       "    .dataframe thead th {\n",
       "        text-align: right;\n",
       "    }\n",
       "</style>\n",
       "<table border=\"1\" class=\"dataframe\">\n",
       "  <thead>\n",
       "    <tr style=\"text-align: right;\">\n",
       "      <th></th>\n",
       "      <th>id</th>\n",
       "      <th>type</th>\n",
       "      <th>is_hot</th>\n",
       "      <th>fp1_delta_power</th>\n",
       "      <th>fp2_delta_power</th>\n",
       "      <th>fz_delta_power</th>\n",
       "      <th>f3_delta_power</th>\n",
       "      <th>f4_delta_power</th>\n",
       "      <th>f7_delta_power</th>\n",
       "      <th>f8_delta_power</th>\n",
       "      <th>...</th>\n",
       "      <th>t4_beta_power</th>\n",
       "      <th>t5_beta_power</th>\n",
       "      <th>t6_beta_power</th>\n",
       "      <th>pz_beta_power</th>\n",
       "      <th>p3_beta_power</th>\n",
       "      <th>p4_beta_power</th>\n",
       "      <th>o1_beta_power</th>\n",
       "      <th>o2_beta_power</th>\n",
       "      <th>peak_freq_beta</th>\n",
       "      <th>Unnamed: 83</th>\n",
       "    </tr>\n",
       "  </thead>\n",
       "  <tbody>\n",
       "    <tr>\n",
       "      <td>0</td>\n",
       "      <td>1</td>\n",
       "      <td>1</td>\n",
       "      <td>0</td>\n",
       "      <td>22.899</td>\n",
       "      <td>21.685</td>\n",
       "      <td>19.915</td>\n",
       "      <td>20.237</td>\n",
       "      <td>19.067</td>\n",
       "      <td>25.607</td>\n",
       "      <td>22.783</td>\n",
       "      <td>...</td>\n",
       "      <td>NaN</td>\n",
       "      <td>-2.98150</td>\n",
       "      <td>-3.27530</td>\n",
       "      <td>-1.93630</td>\n",
       "      <td>-0.94514</td>\n",
       "      <td>-2.00460</td>\n",
       "      <td>-4.65180</td>\n",
       "      <td>-3.2620</td>\n",
       "      <td>14.648</td>\n",
       "      <td>NaN</td>\n",
       "    </tr>\n",
       "    <tr>\n",
       "      <td>1</td>\n",
       "      <td>1</td>\n",
       "      <td>1</td>\n",
       "      <td>0</td>\n",
       "      <td>18.045</td>\n",
       "      <td>19.316</td>\n",
       "      <td>16.737</td>\n",
       "      <td>16.287</td>\n",
       "      <td>18.159</td>\n",
       "      <td>23.842</td>\n",
       "      <td>23.258</td>\n",
       "      <td>...</td>\n",
       "      <td>NaN</td>\n",
       "      <td>-3.36850</td>\n",
       "      <td>-3.17390</td>\n",
       "      <td>-2.14730</td>\n",
       "      <td>-1.49270</td>\n",
       "      <td>-2.17560</td>\n",
       "      <td>-4.26250</td>\n",
       "      <td>-2.6053</td>\n",
       "      <td>14.136</td>\n",
       "      <td>NaN</td>\n",
       "    </tr>\n",
       "    <tr>\n",
       "      <td>2</td>\n",
       "      <td>1</td>\n",
       "      <td>1</td>\n",
       "      <td>0</td>\n",
       "      <td>24.716</td>\n",
       "      <td>20.559</td>\n",
       "      <td>20.137</td>\n",
       "      <td>20.502</td>\n",
       "      <td>18.873</td>\n",
       "      <td>27.437</td>\n",
       "      <td>23.170</td>\n",
       "      <td>...</td>\n",
       "      <td>NaN</td>\n",
       "      <td>-0.89542</td>\n",
       "      <td>-0.48098</td>\n",
       "      <td>-0.89873</td>\n",
       "      <td>-0.84718</td>\n",
       "      <td>-1.36790</td>\n",
       "      <td>-0.87821</td>\n",
       "      <td>-1.1667</td>\n",
       "      <td>14.136</td>\n",
       "      <td>NaN</td>\n",
       "    </tr>\n",
       "    <tr>\n",
       "      <td>3</td>\n",
       "      <td>1</td>\n",
       "      <td>1</td>\n",
       "      <td>0</td>\n",
       "      <td>22.554</td>\n",
       "      <td>19.396</td>\n",
       "      <td>18.931</td>\n",
       "      <td>19.895</td>\n",
       "      <td>17.095</td>\n",
       "      <td>25.061</td>\n",
       "      <td>21.846</td>\n",
       "      <td>...</td>\n",
       "      <td>NaN</td>\n",
       "      <td>-2.63340</td>\n",
       "      <td>-2.26430</td>\n",
       "      <td>-0.23432</td>\n",
       "      <td>-1.02840</td>\n",
       "      <td>-0.47642</td>\n",
       "      <td>-3.36000</td>\n",
       "      <td>-2.8233</td>\n",
       "      <td>15.088</td>\n",
       "      <td>NaN</td>\n",
       "    </tr>\n",
       "    <tr>\n",
       "      <td>4</td>\n",
       "      <td>1</td>\n",
       "      <td>1</td>\n",
       "      <td>0</td>\n",
       "      <td>20.109</td>\n",
       "      <td>19.079</td>\n",
       "      <td>17.726</td>\n",
       "      <td>18.734</td>\n",
       "      <td>16.019</td>\n",
       "      <td>21.981</td>\n",
       "      <td>20.454</td>\n",
       "      <td>...</td>\n",
       "      <td>NaN</td>\n",
       "      <td>-2.36470</td>\n",
       "      <td>-2.58930</td>\n",
       "      <td>-0.77500</td>\n",
       "      <td>-0.85189</td>\n",
       "      <td>-1.07830</td>\n",
       "      <td>-2.72990</td>\n",
       "      <td>-2.5004</td>\n",
       "      <td>14.355</td>\n",
       "      <td>NaN</td>\n",
       "    </tr>\n",
       "    <tr>\n",
       "      <td>...</td>\n",
       "      <td>...</td>\n",
       "      <td>...</td>\n",
       "      <td>...</td>\n",
       "      <td>...</td>\n",
       "      <td>...</td>\n",
       "      <td>...</td>\n",
       "      <td>...</td>\n",
       "      <td>...</td>\n",
       "      <td>...</td>\n",
       "      <td>...</td>\n",
       "      <td>...</td>\n",
       "      <td>...</td>\n",
       "      <td>...</td>\n",
       "      <td>...</td>\n",
       "      <td>...</td>\n",
       "      <td>...</td>\n",
       "      <td>...</td>\n",
       "      <td>...</td>\n",
       "      <td>...</td>\n",
       "      <td>...</td>\n",
       "      <td>...</td>\n",
       "    </tr>\n",
       "    <tr>\n",
       "      <td>233</td>\n",
       "      <td>13</td>\n",
       "      <td>1</td>\n",
       "      <td>1</td>\n",
       "      <td>21.233</td>\n",
       "      <td>26.780</td>\n",
       "      <td>16.821</td>\n",
       "      <td>15.673</td>\n",
       "      <td>18.676</td>\n",
       "      <td>25.178</td>\n",
       "      <td>27.625</td>\n",
       "      <td>...</td>\n",
       "      <td>-0.82852</td>\n",
       "      <td>-1.43080</td>\n",
       "      <td>-1.81890</td>\n",
       "      <td>-4.73790</td>\n",
       "      <td>-4.29640</td>\n",
       "      <td>-1.27940</td>\n",
       "      <td>5.14940</td>\n",
       "      <td>2.5985</td>\n",
       "      <td>14.062</td>\n",
       "      <td>NaN</td>\n",
       "    </tr>\n",
       "    <tr>\n",
       "      <td>234</td>\n",
       "      <td>13</td>\n",
       "      <td>1</td>\n",
       "      <td>1</td>\n",
       "      <td>18.163</td>\n",
       "      <td>23.708</td>\n",
       "      <td>15.590</td>\n",
       "      <td>14.989</td>\n",
       "      <td>19.528</td>\n",
       "      <td>23.212</td>\n",
       "      <td>27.909</td>\n",
       "      <td>...</td>\n",
       "      <td>-0.55400</td>\n",
       "      <td>-1.19530</td>\n",
       "      <td>-2.13560</td>\n",
       "      <td>-6.29830</td>\n",
       "      <td>-4.58040</td>\n",
       "      <td>-2.91470</td>\n",
       "      <td>5.61310</td>\n",
       "      <td>2.4183</td>\n",
       "      <td>16.040</td>\n",
       "      <td>NaN</td>\n",
       "    </tr>\n",
       "    <tr>\n",
       "      <td>235</td>\n",
       "      <td>13</td>\n",
       "      <td>1</td>\n",
       "      <td>1</td>\n",
       "      <td>20.138</td>\n",
       "      <td>25.910</td>\n",
       "      <td>17.005</td>\n",
       "      <td>14.137</td>\n",
       "      <td>18.955</td>\n",
       "      <td>21.219</td>\n",
       "      <td>28.452</td>\n",
       "      <td>...</td>\n",
       "      <td>-1.42400</td>\n",
       "      <td>-0.85327</td>\n",
       "      <td>-2.65190</td>\n",
       "      <td>-6.07100</td>\n",
       "      <td>-3.81670</td>\n",
       "      <td>-1.55570</td>\n",
       "      <td>4.53990</td>\n",
       "      <td>3.0175</td>\n",
       "      <td>14.575</td>\n",
       "      <td>NaN</td>\n",
       "    </tr>\n",
       "    <tr>\n",
       "      <td>236</td>\n",
       "      <td>13</td>\n",
       "      <td>1</td>\n",
       "      <td>1</td>\n",
       "      <td>18.651</td>\n",
       "      <td>23.389</td>\n",
       "      <td>16.885</td>\n",
       "      <td>15.653</td>\n",
       "      <td>17.607</td>\n",
       "      <td>25.356</td>\n",
       "      <td>28.274</td>\n",
       "      <td>...</td>\n",
       "      <td>-0.49193</td>\n",
       "      <td>-2.01850</td>\n",
       "      <td>-2.20750</td>\n",
       "      <td>-5.75370</td>\n",
       "      <td>-5.03290</td>\n",
       "      <td>-2.98950</td>\n",
       "      <td>5.04660</td>\n",
       "      <td>2.5992</td>\n",
       "      <td>14.209</td>\n",
       "      <td>NaN</td>\n",
       "    </tr>\n",
       "    <tr>\n",
       "      <td>237</td>\n",
       "      <td>13</td>\n",
       "      <td>1</td>\n",
       "      <td>1</td>\n",
       "      <td>18.947</td>\n",
       "      <td>22.785</td>\n",
       "      <td>16.148</td>\n",
       "      <td>14.369</td>\n",
       "      <td>17.995</td>\n",
       "      <td>19.899</td>\n",
       "      <td>28.527</td>\n",
       "      <td>...</td>\n",
       "      <td>-2.30050</td>\n",
       "      <td>-1.76680</td>\n",
       "      <td>-2.73080</td>\n",
       "      <td>-7.48800</td>\n",
       "      <td>-4.75920</td>\n",
       "      <td>-3.01710</td>\n",
       "      <td>5.07100</td>\n",
       "      <td>2.8203</td>\n",
       "      <td>14.136</td>\n",
       "      <td>NaN</td>\n",
       "    </tr>\n",
       "  </tbody>\n",
       "</table>\n",
       "<p>238 rows × 84 columns</p>\n",
       "</div>"
      ],
      "text/plain": [
       "     id  type  is_hot  fp1_delta_power  fp2_delta_power  fz_delta_power  \\\n",
       "0     1     1       0           22.899           21.685          19.915   \n",
       "1     1     1       0           18.045           19.316          16.737   \n",
       "2     1     1       0           24.716           20.559          20.137   \n",
       "3     1     1       0           22.554           19.396          18.931   \n",
       "4     1     1       0           20.109           19.079          17.726   \n",
       "..   ..   ...     ...              ...              ...             ...   \n",
       "233  13     1       1           21.233           26.780          16.821   \n",
       "234  13     1       1           18.163           23.708          15.590   \n",
       "235  13     1       1           20.138           25.910          17.005   \n",
       "236  13     1       1           18.651           23.389          16.885   \n",
       "237  13     1       1           18.947           22.785          16.148   \n",
       "\n",
       "     f3_delta_power  f4_delta_power  f7_delta_power  f8_delta_power  ...  \\\n",
       "0            20.237          19.067          25.607          22.783  ...   \n",
       "1            16.287          18.159          23.842          23.258  ...   \n",
       "2            20.502          18.873          27.437          23.170  ...   \n",
       "3            19.895          17.095          25.061          21.846  ...   \n",
       "4            18.734          16.019          21.981          20.454  ...   \n",
       "..              ...             ...             ...             ...  ...   \n",
       "233          15.673          18.676          25.178          27.625  ...   \n",
       "234          14.989          19.528          23.212          27.909  ...   \n",
       "235          14.137          18.955          21.219          28.452  ...   \n",
       "236          15.653          17.607          25.356          28.274  ...   \n",
       "237          14.369          17.995          19.899          28.527  ...   \n",
       "\n",
       "     t4_beta_power  t5_beta_power  t6_beta_power  pz_beta_power  \\\n",
       "0              NaN       -2.98150       -3.27530       -1.93630   \n",
       "1              NaN       -3.36850       -3.17390       -2.14730   \n",
       "2              NaN       -0.89542       -0.48098       -0.89873   \n",
       "3              NaN       -2.63340       -2.26430       -0.23432   \n",
       "4              NaN       -2.36470       -2.58930       -0.77500   \n",
       "..             ...            ...            ...            ...   \n",
       "233       -0.82852       -1.43080       -1.81890       -4.73790   \n",
       "234       -0.55400       -1.19530       -2.13560       -6.29830   \n",
       "235       -1.42400       -0.85327       -2.65190       -6.07100   \n",
       "236       -0.49193       -2.01850       -2.20750       -5.75370   \n",
       "237       -2.30050       -1.76680       -2.73080       -7.48800   \n",
       "\n",
       "     p3_beta_power  p4_beta_power  o1_beta_power  o2_beta_power  \\\n",
       "0         -0.94514       -2.00460       -4.65180        -3.2620   \n",
       "1         -1.49270       -2.17560       -4.26250        -2.6053   \n",
       "2         -0.84718       -1.36790       -0.87821        -1.1667   \n",
       "3         -1.02840       -0.47642       -3.36000        -2.8233   \n",
       "4         -0.85189       -1.07830       -2.72990        -2.5004   \n",
       "..             ...            ...            ...            ...   \n",
       "233       -4.29640       -1.27940        5.14940         2.5985   \n",
       "234       -4.58040       -2.91470        5.61310         2.4183   \n",
       "235       -3.81670       -1.55570        4.53990         3.0175   \n",
       "236       -5.03290       -2.98950        5.04660         2.5992   \n",
       "237       -4.75920       -3.01710        5.07100         2.8203   \n",
       "\n",
       "     peak_freq_beta  Unnamed: 83  \n",
       "0            14.648          NaN  \n",
       "1            14.136          NaN  \n",
       "2            14.136          NaN  \n",
       "3            15.088          NaN  \n",
       "4            14.355          NaN  \n",
       "..              ...          ...  \n",
       "233          14.062          NaN  \n",
       "234          16.040          NaN  \n",
       "235          14.575          NaN  \n",
       "236          14.209          NaN  \n",
       "237          14.136          NaN  \n",
       "\n",
       "[238 rows x 84 columns]"
      ]
     },
     "execution_count": 8,
     "metadata": {},
     "output_type": "execute_result"
    }
   ],
   "source": [
    "# Experiment with Healthy\n",
    "participant_type = \"HEALTHY\" #HEALTHY, MSK or BOTH\n",
    "\n",
    "gs = create_gridsearch_pipeline()\n",
    "X,y,group,df = pre_process(input_filename, participant_type)\n",
    "accuracies, best_params = classify_loso_model_selection(X, y, group, gs)\n",
    "\n",
    "print(\"Accuracies: \", str(accuracies))\n",
    "plot_acc(group, accuracies, participant_type)\n",
    "print(\"Mean Accuracies: \" + str(np.mean(accuracies)))\n",
    "df"
   ]
  },
  {
   "cell_type": "code",
   "execution_count": 9,
   "metadata": {},
   "outputs": [
    {
     "name": "stderr",
     "output_type": "stream",
     "text": [
      "/home/yacine/anaconda3/lib/python3.7/site-packages/sklearn/linear_model/logistic.py:432: FutureWarning: Default solver will be changed to 'lbfgs' in 0.22. Specify a solver to silence this warning.\n",
      "  FutureWarning)\n",
      "/home/yacine/anaconda3/lib/python3.7/site-packages/sklearn/linear_model/logistic.py:432: FutureWarning: Default solver will be changed to 'lbfgs' in 0.22. Specify a solver to silence this warning.\n",
      "  FutureWarning)\n",
      "/home/yacine/anaconda3/lib/python3.7/site-packages/sklearn/linear_model/logistic.py:432: FutureWarning: Default solver will be changed to 'lbfgs' in 0.22. Specify a solver to silence this warning.\n",
      "  FutureWarning)\n",
      "/home/yacine/anaconda3/lib/python3.7/site-packages/sklearn/linear_model/logistic.py:432: FutureWarning: Default solver will be changed to 'lbfgs' in 0.22. Specify a solver to silence this warning.\n",
      "  FutureWarning)\n",
      "/home/yacine/anaconda3/lib/python3.7/site-packages/sklearn/linear_model/logistic.py:432: FutureWarning: Default solver will be changed to 'lbfgs' in 0.22. Specify a solver to silence this warning.\n",
      "  FutureWarning)\n",
      "/home/yacine/anaconda3/lib/python3.7/site-packages/sklearn/linear_model/logistic.py:432: FutureWarning: Default solver will be changed to 'lbfgs' in 0.22. Specify a solver to silence this warning.\n",
      "  FutureWarning)\n",
      "/home/yacine/anaconda3/lib/python3.7/site-packages/sklearn/linear_model/logistic.py:432: FutureWarning: Default solver will be changed to 'lbfgs' in 0.22. Specify a solver to silence this warning.\n",
      "  FutureWarning)\n",
      "/home/yacine/anaconda3/lib/python3.7/site-packages/sklearn/linear_model/logistic.py:432: FutureWarning: Default solver will be changed to 'lbfgs' in 0.22. Specify a solver to silence this warning.\n",
      "  FutureWarning)\n",
      "/home/yacine/anaconda3/lib/python3.7/site-packages/sklearn/linear_model/logistic.py:432: FutureWarning: Default solver will be changed to 'lbfgs' in 0.22. Specify a solver to silence this warning.\n",
      "  FutureWarning)\n",
      "/home/yacine/anaconda3/lib/python3.7/site-packages/sklearn/linear_model/logistic.py:432: FutureWarning: Default solver will be changed to 'lbfgs' in 0.22. Specify a solver to silence this warning.\n",
      "  FutureWarning)\n",
      "/home/yacine/anaconda3/lib/python3.7/site-packages/sklearn/linear_model/logistic.py:432: FutureWarning: Default solver will be changed to 'lbfgs' in 0.22. Specify a solver to silence this warning.\n",
      "  FutureWarning)\n",
      "/home/yacine/anaconda3/lib/python3.7/site-packages/sklearn/linear_model/logistic.py:432: FutureWarning: Default solver will be changed to 'lbfgs' in 0.22. Specify a solver to silence this warning.\n",
      "  FutureWarning)\n",
      "/home/yacine/anaconda3/lib/python3.7/site-packages/sklearn/linear_model/logistic.py:432: FutureWarning: Default solver will be changed to 'lbfgs' in 0.22. Specify a solver to silence this warning.\n",
      "  FutureWarning)\n",
      "/home/yacine/anaconda3/lib/python3.7/site-packages/sklearn/linear_model/logistic.py:432: FutureWarning: Default solver will be changed to 'lbfgs' in 0.22. Specify a solver to silence this warning.\n",
      "  FutureWarning)\n",
      "/home/yacine/anaconda3/lib/python3.7/site-packages/sklearn/linear_model/logistic.py:432: FutureWarning: Default solver will be changed to 'lbfgs' in 0.22. Specify a solver to silence this warning.\n",
      "  FutureWarning)\n",
      "/home/yacine/anaconda3/lib/python3.7/site-packages/sklearn/linear_model/logistic.py:432: FutureWarning: Default solver will be changed to 'lbfgs' in 0.22. Specify a solver to silence this warning.\n",
      "  FutureWarning)\n",
      "/home/yacine/anaconda3/lib/python3.7/site-packages/sklearn/linear_model/logistic.py:432: FutureWarning: Default solver will be changed to 'lbfgs' in 0.22. Specify a solver to silence this warning.\n",
      "  FutureWarning)\n",
      "/home/yacine/anaconda3/lib/python3.7/site-packages/sklearn/linear_model/logistic.py:432: FutureWarning: Default solver will be changed to 'lbfgs' in 0.22. Specify a solver to silence this warning.\n",
      "  FutureWarning)\n",
      "/home/yacine/anaconda3/lib/python3.7/site-packages/sklearn/linear_model/logistic.py:432: FutureWarning: Default solver will be changed to 'lbfgs' in 0.22. Specify a solver to silence this warning.\n",
      "  FutureWarning)\n",
      "/home/yacine/anaconda3/lib/python3.7/site-packages/sklearn/linear_model/logistic.py:432: FutureWarning: Default solver will be changed to 'lbfgs' in 0.22. Specify a solver to silence this warning.\n",
      "  FutureWarning)\n",
      "/home/yacine/anaconda3/lib/python3.7/site-packages/sklearn/linear_model/logistic.py:432: FutureWarning: Default solver will be changed to 'lbfgs' in 0.22. Specify a solver to silence this warning.\n",
      "  FutureWarning)\n",
      "/home/yacine/anaconda3/lib/python3.7/site-packages/sklearn/linear_model/logistic.py:432: FutureWarning: Default solver will be changed to 'lbfgs' in 0.22. Specify a solver to silence this warning.\n",
      "  FutureWarning)\n",
      "/home/yacine/anaconda3/lib/python3.7/site-packages/sklearn/linear_model/logistic.py:432: FutureWarning: Default solver will be changed to 'lbfgs' in 0.22. Specify a solver to silence this warning.\n",
      "  FutureWarning)\n",
      "/home/yacine/anaconda3/lib/python3.7/site-packages/sklearn/linear_model/logistic.py:432: FutureWarning: Default solver will be changed to 'lbfgs' in 0.22. Specify a solver to silence this warning.\n",
      "  FutureWarning)\n",
      "/home/yacine/anaconda3/lib/python3.7/site-packages/sklearn/linear_model/logistic.py:432: FutureWarning: Default solver will be changed to 'lbfgs' in 0.22. Specify a solver to silence this warning.\n",
      "  FutureWarning)\n",
      "/home/yacine/anaconda3/lib/python3.7/site-packages/sklearn/linear_model/logistic.py:432: FutureWarning: Default solver will be changed to 'lbfgs' in 0.22. Specify a solver to silence this warning.\n",
      "  FutureWarning)\n",
      "/home/yacine/anaconda3/lib/python3.7/site-packages/sklearn/linear_model/logistic.py:432: FutureWarning: Default solver will be changed to 'lbfgs' in 0.22. Specify a solver to silence this warning.\n",
      "  FutureWarning)\n",
      "/home/yacine/anaconda3/lib/python3.7/site-packages/sklearn/linear_model/logistic.py:432: FutureWarning: Default solver will be changed to 'lbfgs' in 0.22. Specify a solver to silence this warning.\n",
      "  FutureWarning)\n",
      "/home/yacine/anaconda3/lib/python3.7/site-packages/sklearn/linear_model/logistic.py:432: FutureWarning: Default solver will be changed to 'lbfgs' in 0.22. Specify a solver to silence this warning.\n",
      "  FutureWarning)\n",
      "/home/yacine/anaconda3/lib/python3.7/site-packages/sklearn/linear_model/logistic.py:432: FutureWarning: Default solver will be changed to 'lbfgs' in 0.22. Specify a solver to silence this warning.\n",
      "  FutureWarning)\n",
      "/home/yacine/anaconda3/lib/python3.7/site-packages/sklearn/linear_model/logistic.py:432: FutureWarning: Default solver will be changed to 'lbfgs' in 0.22. Specify a solver to silence this warning.\n",
      "  FutureWarning)\n",
      "/home/yacine/anaconda3/lib/python3.7/site-packages/sklearn/linear_model/logistic.py:432: FutureWarning: Default solver will be changed to 'lbfgs' in 0.22. Specify a solver to silence this warning.\n",
      "  FutureWarning)\n",
      "/home/yacine/anaconda3/lib/python3.7/site-packages/sklearn/linear_model/logistic.py:432: FutureWarning: Default solver will be changed to 'lbfgs' in 0.22. Specify a solver to silence this warning.\n",
      "  FutureWarning)\n",
      "/home/yacine/anaconda3/lib/python3.7/site-packages/sklearn/linear_model/logistic.py:432: FutureWarning: Default solver will be changed to 'lbfgs' in 0.22. Specify a solver to silence this warning.\n",
      "  FutureWarning)\n",
      "/home/yacine/anaconda3/lib/python3.7/site-packages/sklearn/linear_model/logistic.py:432: FutureWarning: Default solver will be changed to 'lbfgs' in 0.22. Specify a solver to silence this warning.\n",
      "  FutureWarning)\n",
      "/home/yacine/anaconda3/lib/python3.7/site-packages/sklearn/linear_model/logistic.py:432: FutureWarning: Default solver will be changed to 'lbfgs' in 0.22. Specify a solver to silence this warning.\n",
      "  FutureWarning)\n",
      "/home/yacine/anaconda3/lib/python3.7/site-packages/sklearn/linear_model/logistic.py:432: FutureWarning: Default solver will be changed to 'lbfgs' in 0.22. Specify a solver to silence this warning.\n",
      "  FutureWarning)\n",
      "/home/yacine/anaconda3/lib/python3.7/site-packages/sklearn/linear_model/logistic.py:432: FutureWarning: Default solver will be changed to 'lbfgs' in 0.22. Specify a solver to silence this warning.\n",
      "  FutureWarning)\n",
      "/home/yacine/anaconda3/lib/python3.7/site-packages/sklearn/linear_model/logistic.py:432: FutureWarning: Default solver will be changed to 'lbfgs' in 0.22. Specify a solver to silence this warning.\n",
      "  FutureWarning)\n",
      "/home/yacine/anaconda3/lib/python3.7/site-packages/sklearn/linear_model/logistic.py:432: FutureWarning: Default solver will be changed to 'lbfgs' in 0.22. Specify a solver to silence this warning.\n",
      "  FutureWarning)\n",
      "/home/yacine/anaconda3/lib/python3.7/site-packages/sklearn/linear_model/logistic.py:432: FutureWarning: Default solver will be changed to 'lbfgs' in 0.22. Specify a solver to silence this warning.\n",
      "  FutureWarning)\n",
      "/home/yacine/anaconda3/lib/python3.7/site-packages/sklearn/linear_model/logistic.py:432: FutureWarning: Default solver will be changed to 'lbfgs' in 0.22. Specify a solver to silence this warning.\n",
      "  FutureWarning)\n"
     ]
    },
    {
     "name": "stderr",
     "output_type": "stream",
     "text": [
      "/home/yacine/anaconda3/lib/python3.7/site-packages/sklearn/linear_model/logistic.py:432: FutureWarning: Default solver will be changed to 'lbfgs' in 0.22. Specify a solver to silence this warning.\n",
      "  FutureWarning)\n",
      "/home/yacine/anaconda3/lib/python3.7/site-packages/sklearn/linear_model/logistic.py:432: FutureWarning: Default solver will be changed to 'lbfgs' in 0.22. Specify a solver to silence this warning.\n",
      "  FutureWarning)\n",
      "/home/yacine/anaconda3/lib/python3.7/site-packages/sklearn/linear_model/logistic.py:432: FutureWarning: Default solver will be changed to 'lbfgs' in 0.22. Specify a solver to silence this warning.\n",
      "  FutureWarning)\n",
      "/home/yacine/anaconda3/lib/python3.7/site-packages/sklearn/linear_model/logistic.py:432: FutureWarning: Default solver will be changed to 'lbfgs' in 0.22. Specify a solver to silence this warning.\n",
      "  FutureWarning)\n",
      "/home/yacine/anaconda3/lib/python3.7/site-packages/sklearn/linear_model/logistic.py:432: FutureWarning: Default solver will be changed to 'lbfgs' in 0.22. Specify a solver to silence this warning.\n",
      "  FutureWarning)\n",
      "/home/yacine/anaconda3/lib/python3.7/site-packages/sklearn/linear_model/logistic.py:432: FutureWarning: Default solver will be changed to 'lbfgs' in 0.22. Specify a solver to silence this warning.\n",
      "  FutureWarning)\n",
      "/home/yacine/anaconda3/lib/python3.7/site-packages/sklearn/linear_model/logistic.py:432: FutureWarning: Default solver will be changed to 'lbfgs' in 0.22. Specify a solver to silence this warning.\n",
      "  FutureWarning)\n",
      "/home/yacine/anaconda3/lib/python3.7/site-packages/sklearn/linear_model/logistic.py:432: FutureWarning: Default solver will be changed to 'lbfgs' in 0.22. Specify a solver to silence this warning.\n",
      "  FutureWarning)\n",
      "/home/yacine/anaconda3/lib/python3.7/site-packages/sklearn/linear_model/logistic.py:432: FutureWarning: Default solver will be changed to 'lbfgs' in 0.22. Specify a solver to silence this warning.\n",
      "  FutureWarning)\n",
      "/home/yacine/anaconda3/lib/python3.7/site-packages/sklearn/linear_model/logistic.py:432: FutureWarning: Default solver will be changed to 'lbfgs' in 0.22. Specify a solver to silence this warning.\n",
      "  FutureWarning)\n",
      "/home/yacine/anaconda3/lib/python3.7/site-packages/sklearn/linear_model/logistic.py:432: FutureWarning: Default solver will be changed to 'lbfgs' in 0.22. Specify a solver to silence this warning.\n",
      "  FutureWarning)\n"
     ]
    },
    {
     "name": "stdout",
     "output_type": "stream",
     "text": [
      "Accuracies:  [0.5555555555555556, 0.5, 0.6923076923076923, 0.8888888888888888, 0.5882352941176471, 0.6363636363636364, 0.6428571428571429, 0.45, 0.8181818181818182, 0.68, 0.5384615384615384, 0.7647058823529411, 0.6538461538461539, 0.9545454545454546, 0.6, 0.5789473684210527, 0.8333333333333334, 0.3333333333333333, 0.43478260869565216, 0.7, 0.65, 0.8947368421052632, 0.9, 0.68, 0.7241379310344828, 0.8333333333333334, 0.9047619047619048, 0.6666666666666666, 0.4074074074074074, 0.8857142857142857, 0.47619047619047616, 0.6, 0.5555555555555556, 0.6511627906976745, 0.5909090909090909, 0.6666666666666666, 0.7, 0.3333333333333333, 0.5454545454545454, 0.36666666666666664, 0.75, 0.7058823529411765, 0.6153846153846154, 0.35294117647058826, 0.875, 0.625, 1.0, 0.29411764705882354, 0.6153846153846154, 0.47058823529411764, 0.6875, 0.625, 0.6923076923076923]\n"
     ]
    },
    {
     "data": {
      "image/png": "[encoded data removed]",
      "text/plain": [
       "<Figure size 432x288 with 1 Axes>"
      ]
     },
     "metadata": {
      "needs_background": "light"
     },
     "output_type": "display_data"
    },
    {
     "name": "stdout",
     "output_type": "stream",
     "text": [
      "Mean Accuracies: 0.6450216892943551\n"
     ]
    }
   ],
   "source": [
    "# Notes:\n",
    "# The MSK participants are very long to run since there are a lots of participants\n",
    "# We will pause this and go with the Healthy participant for now\n",
    "participant_type = \"MSK\" #HEALTHY, MSK or BOTH\n",
    "\n",
    "gs = create_gridsearch_pipeline()\n",
    "X,y,group,df = pre_process(input_filename, participant_type)\n",
    "clf = LogisticRegression(penalty=\"l1\", C=2.7825594022071245)\n",
    "pipe = Pipeline([\n",
    "    ('imputer', SimpleImputer(missing_values=np.nan, strategy='mean')),\n",
    "    ('scaler', StandardScaler()),\n",
    "    ('clf', clf)])\n",
    "accuracies = classify_loso(X, y, group, pipe)\n",
    "#accuracies, best_params = classify_loso_model_selection(X, y, group, gs)\n",
    "\n",
    "print(\"Accuracies: \", str(accuracies))\n",
    "plot_acc(group, accuracies, participant_type)\n",
    "print(\"Mean Accuracies: \" + str(np.mean(accuracies)))"
   ]
  },
  {
   "cell_type": "code",
   "execution_count": 10,
   "metadata": {},
   "outputs": [
    {
     "data": {
      "text/plain": [
       "{'LOG_penality=l2_C=2.7825594022071245': 11, 'SVC_kernel=linear_C=1000': 1}"
      ]
     },
     "execution_count": 10,
     "metadata": {},
     "output_type": "execute_result"
    }
   ],
   "source": [
    "# Find te best model by looking at the occurence of the model parameters\n",
    "model_occurence = find_best_model(best_params)\n",
    "model_occurence"
   ]
  },
  {
   "cell_type": "code",
   "execution_count": 12,
   "metadata": {},
   "outputs": [
    {
     "name": "stderr",
     "output_type": "stream",
     "text": [
      "/home/yacine/anaconda3/lib/python3.7/site-packages/sklearn/linear_model/logistic.py:432: FutureWarning: Default solver will be changed to 'lbfgs' in 0.22. Specify a solver to silence this warning.\n",
      "  FutureWarning)\n"
     ]
    },
    {
     "data": {
      "image/png": "[encoded data removed]",
      "text/plain": [
       "<Figure size 432x288 with 1 Axes>"
      ]
     },
     "metadata": {
      "needs_background": "light"
     },
     "output_type": "display_data"
    }
   ],
   "source": [
    "# Once we know the model occurence we can train the best model on the full dataset\n",
    "clf = LogisticRegression(penalty=\"l1\", C=2.7825594022071245)\n",
    "pipe = Pipeline([\n",
    "    ('imputer', SimpleImputer(missing_values=np.nan, strategy='mean')),\n",
    "    ('scaler', StandardScaler()),\n",
    "    ('clf', clf)])\n",
    "pipe.fit(X, y)\n",
    "clf = pipe.steps[2][1]\n",
    "feature_weights = clf.coef_[0]\n",
    "\n",
    "\n",
    "feature_df = df.drop(['id', 'type', 'is_hot'], axis=1)\n",
    "feature_names = list(feature_df.columns.values)\n",
    "\n",
    "ax = sns.barplot(x=feature_names, y=feature_weights)\n",
    "plt.show()\n",
    "\n",
    "# Here there might be some cool visualization we cool do by looking only at a per bandpass basis\n",
    "# or grouping the bandpass together to have four bar"
   ]
  },
  {
   "cell_type": "code",
   "execution_count": 15,
   "metadata": {},
   "outputs": [
    {
     "data": {
      "text/plain": [
       "76"
      ]
     },
     "execution_count": 15,
     "metadata": {},
     "output_type": "execute_result"
    }
   ],
   "source": [
    "19*4"
   ]
  },
  {
   "cell_type": "code",
   "execution_count": null,
   "metadata": {},
   "outputs": [],
   "source": []
  }
 ],
 "metadata": {
  "kernelspec": {
   "display_name": "Python 3",
   "language": "python",
   "name": "python3"
  },
  "language_info": {
   "codemirror_mode": {
    "name": "ipython",
    "version": 3
   },
   "file_extension": ".py",
   "mimetype": "text/x-python",
   "name": "python",
   "nbconvert_exporter": "python",
   "pygments_lexer": "ipython3",
   "version": "3.7.4"
  }
 },
 "nbformat": 4,
 "nbformat_minor": 2
}
