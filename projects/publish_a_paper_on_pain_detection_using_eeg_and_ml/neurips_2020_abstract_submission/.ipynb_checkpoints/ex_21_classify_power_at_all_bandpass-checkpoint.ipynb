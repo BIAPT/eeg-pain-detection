{
 "cells": [
  {
   "cell_type": "markdown",
   "metadata": {},
   "source": [
    "# Yacine Mahdid May 24 2020\n",
    "In this notebook the goal is to augment the analysis by using power, peak-frequencies and wpli feature at all bandpass of interest. This analysis has four steps:\n",
    "1. [x] Use LOSO+Model selection to find the average accuracies for both healthy and MSK with all features\n",
    "2. [X] Find which model is the best one using all the params and get these parameters\n",
    "3. [X] Train the final model on the best parameters (This doesn't have to be automated)\n",
    "4. [X] Visualize the feature weights with corresponding labels as a barplot\n",
    "\n",
    "## Features in this analysis\n",
    "The feature listed belows are for all the 19 channels\n",
    "- Power, peak frequency and average wPLI at Delta (0.5 - 4Hz)\n",
    "- Power, peak frequency and average wPLI at Theta (4 - 8Hz)\n",
    "- Power, peak frequency and average wPLI at Alpha (8 - 14Hz)\n",
    "- Power, peak frequency and average wPLI at Beta (14 - 32Hz)\n",
    "\n",
    "\n",
    "\n",
    "\n",
    "## Classifier In Gridsearch\n",
    "- Linear SVM\n",
    "- Linear Regression\n",
    "- Decision Trees"
   ]
  },
  {
   "cell_type": "code",
   "execution_count": 1,
   "metadata": {
    "scrolled": true
   },
   "outputs": [],
   "source": [
    "import numpy as np\n",
    "import pandas as pd\n",
    "\n",
    "import seaborn as sns\n",
    "import matplotlib.pyplot as plt\n",
    "\n",
    "from sklearn.linear_model import LogisticRegression\n",
    "from sklearn.tree import DecisionTreeClassifier\n",
    "from sklearn.svm import SVC\n",
    "\n",
    "from ml_tools.classification import classify_loso_model_selection\n",
    "from ml_tools.classification import classify_loso\n",
    "from ml_tools.classification import create_gridsearch_pipeline\n",
    "from ml_tools.pre_processing import pre_process\n",
    "\n",
    "from sklearn.pipeline import Pipeline\n",
    "from sklearn.preprocessing import StandardScaler\n",
    "from sklearn.impute import SimpleImputer\n",
    "\n",
    "def plot_acc(group, accuracies, participant_type):\n",
    "    # Plot of Each Participant Accuracies in the Cross Validation Scheme\n",
    "    p_id = np.unique(group)\n",
    "    sns.barplot(x=p_id, y=accuracies, palette=\"deep\").set_title(f\"Accuracy for each participant in {participant_type}\")\n",
    "    plt.show()\n",
    "\n",
    "def find_best_model(best_params):\n",
    "    models_occurence = {}\n",
    "    for param in best_params:\n",
    "        clf = param['clf']\n",
    "        if isinstance(clf, LogisticRegression):\n",
    "            key = \"LOG\" + \"_penality=\" + str(clf.penalty) + \"_C=\" + str(clf.C)\n",
    "        elif isinstance(clf, SVC):\n",
    "            key = \"SVC\" + \"_kernel=linear_C=\" + str(clf.C)\n",
    "        elif isinstance(clf, DecisionTreeClassifier):\n",
    "            key = \"DEC\" + \"_criterion\" + str(clf.criterion)\n",
    "\n",
    "        if key not in models_occurence:\n",
    "            models_occurence[key] = 1\n",
    "        else:\n",
    "            models_occurence[key] = models_occurence[key] + 1\n",
    "\n",
    "    return models_occurence\n",
    "# Global Experimental Variable\n",
    "input_filename = '/media/yacine/Data/pain_and_eeg/machine_learning_data/features_litterature.csv'"
   ]
  },
  {
   "cell_type": "code",
   "execution_count": 5,
   "metadata": {},
   "outputs": [
    {
     "data": {
      "text/html": [
       "<div>\n",
       "<style scoped>\n",
       "    .dataframe tbody tr th:only-of-type {\n",
       "        vertical-align: middle;\n",
       "    }\n",
       "\n",
       "    .dataframe tbody tr th {\n",
       "        vertical-align: top;\n",
       "    }\n",
       "\n",
       "    .dataframe thead th {\n",
       "        text-align: right;\n",
       "    }\n",
       "</style>\n",
       "<table border=\"1\" class=\"dataframe\">\n",
       "  <thead>\n",
       "    <tr style=\"text-align: right;\">\n",
       "      <th></th>\n",
       "      <th>id</th>\n",
       "      <th>type</th>\n",
       "      <th>is_hot</th>\n",
       "      <th>fp1_delta_power</th>\n",
       "      <th>fp2_delta_power</th>\n",
       "      <th>fz_delta_power</th>\n",
       "      <th>f3_delta_power</th>\n",
       "      <th>f4_delta_power</th>\n",
       "      <th>f7_delta_power</th>\n",
       "      <th>f8_delta_power</th>\n",
       "      <th>...</th>\n",
       "      <th>c4_beta_wpli</th>\n",
       "      <th>t3_beta_wpli</th>\n",
       "      <th>t4_beta_wpli</th>\n",
       "      <th>t5_beta_wpli</th>\n",
       "      <th>t6_beta_wpli</th>\n",
       "      <th>pz_beta_wpli</th>\n",
       "      <th>p3_beta_wpli</th>\n",
       "      <th>p4_beta_wpli</th>\n",
       "      <th>o1_beta_wpli</th>\n",
       "      <th>o2_beta_wpli</th>\n",
       "    </tr>\n",
       "  </thead>\n",
       "  <tbody>\n",
       "  </tbody>\n",
       "</table>\n",
       "<p>0 rows × 159 columns</p>\n",
       "</div>"
      ],
      "text/plain": [
       "Empty DataFrame\n",
       "Columns: [id, type, is_hot, fp1_delta_power, fp2_delta_power, fz_delta_power, f3_delta_power, f4_delta_power, f7_delta_power, f8_delta_power, cz_delta_power, c3_delta_power, c4_delta_power, t3_delta_power, t4_delta_power, t5_delta_power, t6_delta_power, pz_delta_power, p3_delta_power, p4_delta_power, o1_delta_power, o2_delta_power, peak_freq_delta, fp1_delta_wpli, fp2_delta_wpli, fz_delta_wpli, f3_delta_wpli, f4_delta_wpli, f7_delta_wpli, f8_delta_wpli, cz_delta_wpli, c3_delta_wpli, c4_delta_wpli, t3_delta_wpli, t4_delta_wpli, t5_delta_wpli, t6_delta_wpli, pz_delta_wpli, p3_delta_wpli, p4_delta_wpli, o1_delta_wpli, o2_delta_wpli, fp1_theta_power, fp2_theta_power, fz_theta_power, f3_theta_power, f4_theta_power, f7_theta_power, f8_theta_power, cz_theta_power, c3_theta_power, c4_theta_power, t3_theta_power, t4_theta_power, t5_theta_power, t6_theta_power, pz_theta_power, p3_theta_power, p4_theta_power, o1_theta_power, o2_theta_power, peak_freq_theta, fp1_theta_wpli, fp2_theta_wpli, fz_theta_wpli, f3_theta_wpli, f4_theta_wpli, f7_theta_wpli, f8_theta_wpli, cz_theta_wpli, c3_theta_wpli, c4_theta_wpli, t3_theta_wpli, t4_theta_wpli, t5_theta_wpli, t6_theta_wpli, pz_theta_wpli, p3_theta_wpli, p4_theta_wpli, o1_theta_wpli, o2_theta_wpli, fp1_alpha_power, fp2_alpha_power, fz_alpha_power, f3_alpha_power, f4_alpha_power, f7_alpha_power, f8_alpha_power, cz_alpha_power, c3_alpha_power, c4_alpha_power, t3_alpha_power, t4_alpha_power, t5_alpha_power, t6_alpha_power, pz_alpha_power, p3_alpha_power, p4_alpha_power, o1_alpha_power, o2_alpha_power, ...]\n",
       "Index: []\n",
       "\n",
       "[0 rows x 159 columns]"
      ]
     },
     "execution_count": 5,
     "metadata": {},
     "output_type": "execute_result"
    }
   ],
   "source": [
    "# Experiment with Healthy\n",
    "participant_type = \"HEALTHY\" #HEALTHY, MSK or BOTH\n",
    "\n",
    "gs = create_gridsearch_pipeline()\n",
    "X,y,group,df = pre_process(input_filename)\n",
    "#accuracies, best_params = classify_loso_model_selection(X, y, group, gs)\n",
    "\n",
    "#print(\"Accuracies: \", str(accuracies))\n",
    "#plot_acc(group, accuracies, participant_type)\n",
    "#print(\"Mean Accuracies: \" + str(np.mean(accuracies)))\n",
    "df\n",
    "df[df['type'] == 2]"
   ]
  },
  {
   "cell_type": "code",
   "execution_count": 6,
   "metadata": {},
   "outputs": [
    {
     "name": "stderr",
     "output_type": "stream",
     "text": [
      "/home/yacine/anaconda3/lib/python3.7/site-packages/sklearn/linear_model/logistic.py:432: FutureWarning: Default solver will be changed to 'lbfgs' in 0.22. Specify a solver to silence this warning.\n",
      "  FutureWarning)\n",
      "/home/yacine/anaconda3/lib/python3.7/site-packages/sklearn/linear_model/logistic.py:432: FutureWarning: Default solver will be changed to 'lbfgs' in 0.22. Specify a solver to silence this warning.\n",
      "  FutureWarning)\n",
      "/home/yacine/anaconda3/lib/python3.7/site-packages/sklearn/linear_model/logistic.py:432: FutureWarning: Default solver will be changed to 'lbfgs' in 0.22. Specify a solver to silence this warning.\n",
      "  FutureWarning)\n",
      "/home/yacine/anaconda3/lib/python3.7/site-packages/sklearn/linear_model/logistic.py:432: FutureWarning: Default solver will be changed to 'lbfgs' in 0.22. Specify a solver to silence this warning.\n",
      "  FutureWarning)\n",
      "/home/yacine/anaconda3/lib/python3.7/site-packages/sklearn/linear_model/logistic.py:432: FutureWarning: Default solver will be changed to 'lbfgs' in 0.22. Specify a solver to silence this warning.\n",
      "  FutureWarning)\n",
      "/home/yacine/anaconda3/lib/python3.7/site-packages/sklearn/linear_model/logistic.py:432: FutureWarning: Default solver will be changed to 'lbfgs' in 0.22. Specify a solver to silence this warning.\n",
      "  FutureWarning)\n",
      "/home/yacine/anaconda3/lib/python3.7/site-packages/sklearn/linear_model/logistic.py:432: FutureWarning: Default solver will be changed to 'lbfgs' in 0.22. Specify a solver to silence this warning.\n",
      "  FutureWarning)\n",
      "/home/yacine/anaconda3/lib/python3.7/site-packages/sklearn/linear_model/logistic.py:432: FutureWarning: Default solver will be changed to 'lbfgs' in 0.22. Specify a solver to silence this warning.\n",
      "  FutureWarning)\n",
      "/home/yacine/anaconda3/lib/python3.7/site-packages/sklearn/linear_model/logistic.py:432: FutureWarning: Default solver will be changed to 'lbfgs' in 0.22. Specify a solver to silence this warning.\n",
      "  FutureWarning)\n",
      "/home/yacine/anaconda3/lib/python3.7/site-packages/sklearn/linear_model/logistic.py:432: FutureWarning: Default solver will be changed to 'lbfgs' in 0.22. Specify a solver to silence this warning.\n",
      "  FutureWarning)\n",
      "/home/yacine/anaconda3/lib/python3.7/site-packages/sklearn/linear_model/logistic.py:432: FutureWarning: Default solver will be changed to 'lbfgs' in 0.22. Specify a solver to silence this warning.\n",
      "  FutureWarning)\n",
      "/home/yacine/anaconda3/lib/python3.7/site-packages/sklearn/linear_model/logistic.py:432: FutureWarning: Default solver will be changed to 'lbfgs' in 0.22. Specify a solver to silence this warning.\n",
      "  FutureWarning)\n",
      "/home/yacine/anaconda3/lib/python3.7/site-packages/sklearn/linear_model/logistic.py:432: FutureWarning: Default solver will be changed to 'lbfgs' in 0.22. Specify a solver to silence this warning.\n",
      "  FutureWarning)\n",
      "/home/yacine/anaconda3/lib/python3.7/site-packages/sklearn/linear_model/logistic.py:432: FutureWarning: Default solver will be changed to 'lbfgs' in 0.22. Specify a solver to silence this warning.\n",
      "  FutureWarning)\n",
      "/home/yacine/anaconda3/lib/python3.7/site-packages/sklearn/linear_model/logistic.py:432: FutureWarning: Default solver will be changed to 'lbfgs' in 0.22. Specify a solver to silence this warning.\n",
      "  FutureWarning)\n",
      "/home/yacine/anaconda3/lib/python3.7/site-packages/sklearn/linear_model/logistic.py:432: FutureWarning: Default solver will be changed to 'lbfgs' in 0.22. Specify a solver to silence this warning.\n",
      "  FutureWarning)\n",
      "/home/yacine/anaconda3/lib/python3.7/site-packages/sklearn/linear_model/logistic.py:432: FutureWarning: Default solver will be changed to 'lbfgs' in 0.22. Specify a solver to silence this warning.\n",
      "  FutureWarning)\n",
      "/home/yacine/anaconda3/lib/python3.7/site-packages/sklearn/linear_model/logistic.py:432: FutureWarning: Default solver will be changed to 'lbfgs' in 0.22. Specify a solver to silence this warning.\n",
      "  FutureWarning)\n",
      "/home/yacine/anaconda3/lib/python3.7/site-packages/sklearn/linear_model/logistic.py:432: FutureWarning: Default solver will be changed to 'lbfgs' in 0.22. Specify a solver to silence this warning.\n",
      "  FutureWarning)\n",
      "/home/yacine/anaconda3/lib/python3.7/site-packages/sklearn/linear_model/logistic.py:432: FutureWarning: Default solver will be changed to 'lbfgs' in 0.22. Specify a solver to silence this warning.\n",
      "  FutureWarning)\n",
      "/home/yacine/anaconda3/lib/python3.7/site-packages/sklearn/linear_model/logistic.py:432: FutureWarning: Default solver will be changed to 'lbfgs' in 0.22. Specify a solver to silence this warning.\n",
      "  FutureWarning)\n",
      "/home/yacine/anaconda3/lib/python3.7/site-packages/sklearn/linear_model/logistic.py:432: FutureWarning: Default solver will be changed to 'lbfgs' in 0.22. Specify a solver to silence this warning.\n",
      "  FutureWarning)\n",
      "/home/yacine/anaconda3/lib/python3.7/site-packages/sklearn/linear_model/logistic.py:432: FutureWarning: Default solver will be changed to 'lbfgs' in 0.22. Specify a solver to silence this warning.\n",
      "  FutureWarning)\n",
      "/home/yacine/anaconda3/lib/python3.7/site-packages/sklearn/linear_model/logistic.py:432: FutureWarning: Default solver will be changed to 'lbfgs' in 0.22. Specify a solver to silence this warning.\n",
      "  FutureWarning)\n",
      "/home/yacine/anaconda3/lib/python3.7/site-packages/sklearn/linear_model/logistic.py:432: FutureWarning: Default solver will be changed to 'lbfgs' in 0.22. Specify a solver to silence this warning.\n",
      "  FutureWarning)\n",
      "/home/yacine/anaconda3/lib/python3.7/site-packages/sklearn/linear_model/logistic.py:432: FutureWarning: Default solver will be changed to 'lbfgs' in 0.22. Specify a solver to silence this warning.\n",
      "  FutureWarning)\n",
      "/home/yacine/anaconda3/lib/python3.7/site-packages/sklearn/linear_model/logistic.py:432: FutureWarning: Default solver will be changed to 'lbfgs' in 0.22. Specify a solver to silence this warning.\n",
      "  FutureWarning)\n",
      "/home/yacine/anaconda3/lib/python3.7/site-packages/sklearn/linear_model/logistic.py:432: FutureWarning: Default solver will be changed to 'lbfgs' in 0.22. Specify a solver to silence this warning.\n",
      "  FutureWarning)\n",
      "/home/yacine/anaconda3/lib/python3.7/site-packages/sklearn/linear_model/logistic.py:432: FutureWarning: Default solver will be changed to 'lbfgs' in 0.22. Specify a solver to silence this warning.\n",
      "  FutureWarning)\n",
      "/home/yacine/anaconda3/lib/python3.7/site-packages/sklearn/linear_model/logistic.py:432: FutureWarning: Default solver will be changed to 'lbfgs' in 0.22. Specify a solver to silence this warning.\n",
      "  FutureWarning)\n",
      "/home/yacine/anaconda3/lib/python3.7/site-packages/sklearn/linear_model/logistic.py:432: FutureWarning: Default solver will be changed to 'lbfgs' in 0.22. Specify a solver to silence this warning.\n",
      "  FutureWarning)\n",
      "/home/yacine/anaconda3/lib/python3.7/site-packages/sklearn/linear_model/logistic.py:432: FutureWarning: Default solver will be changed to 'lbfgs' in 0.22. Specify a solver to silence this warning.\n",
      "  FutureWarning)\n",
      "/home/yacine/anaconda3/lib/python3.7/site-packages/sklearn/linear_model/logistic.py:432: FutureWarning: Default solver will be changed to 'lbfgs' in 0.22. Specify a solver to silence this warning.\n",
      "  FutureWarning)\n",
      "/home/yacine/anaconda3/lib/python3.7/site-packages/sklearn/linear_model/logistic.py:432: FutureWarning: Default solver will be changed to 'lbfgs' in 0.22. Specify a solver to silence this warning.\n",
      "  FutureWarning)\n",
      "/home/yacine/anaconda3/lib/python3.7/site-packages/sklearn/linear_model/logistic.py:432: FutureWarning: Default solver will be changed to 'lbfgs' in 0.22. Specify a solver to silence this warning.\n",
      "  FutureWarning)\n",
      "/home/yacine/anaconda3/lib/python3.7/site-packages/sklearn/linear_model/logistic.py:432: FutureWarning: Default solver will be changed to 'lbfgs' in 0.22. Specify a solver to silence this warning.\n",
      "  FutureWarning)\n",
      "/home/yacine/anaconda3/lib/python3.7/site-packages/sklearn/linear_model/logistic.py:432: FutureWarning: Default solver will be changed to 'lbfgs' in 0.22. Specify a solver to silence this warning.\n",
      "  FutureWarning)\n",
      "/home/yacine/anaconda3/lib/python3.7/site-packages/sklearn/linear_model/logistic.py:432: FutureWarning: Default solver will be changed to 'lbfgs' in 0.22. Specify a solver to silence this warning.\n",
      "  FutureWarning)\n",
      "/home/yacine/anaconda3/lib/python3.7/site-packages/sklearn/linear_model/logistic.py:432: FutureWarning: Default solver will be changed to 'lbfgs' in 0.22. Specify a solver to silence this warning.\n",
      "  FutureWarning)\n"
     ]
    },
    {
     "name": "stderr",
     "output_type": "stream",
     "text": [
      "/home/yacine/anaconda3/lib/python3.7/site-packages/sklearn/linear_model/logistic.py:432: FutureWarning: Default solver will be changed to 'lbfgs' in 0.22. Specify a solver to silence this warning.\n",
      "  FutureWarning)\n",
      "/home/yacine/anaconda3/lib/python3.7/site-packages/sklearn/linear_model/logistic.py:432: FutureWarning: Default solver will be changed to 'lbfgs' in 0.22. Specify a solver to silence this warning.\n",
      "  FutureWarning)\n",
      "/home/yacine/anaconda3/lib/python3.7/site-packages/sklearn/linear_model/logistic.py:432: FutureWarning: Default solver will be changed to 'lbfgs' in 0.22. Specify a solver to silence this warning.\n",
      "  FutureWarning)\n",
      "/home/yacine/anaconda3/lib/python3.7/site-packages/sklearn/linear_model/logistic.py:432: FutureWarning: Default solver will be changed to 'lbfgs' in 0.22. Specify a solver to silence this warning.\n",
      "  FutureWarning)\n",
      "/home/yacine/anaconda3/lib/python3.7/site-packages/sklearn/linear_model/logistic.py:432: FutureWarning: Default solver will be changed to 'lbfgs' in 0.22. Specify a solver to silence this warning.\n",
      "  FutureWarning)\n",
      "/home/yacine/anaconda3/lib/python3.7/site-packages/sklearn/linear_model/logistic.py:432: FutureWarning: Default solver will be changed to 'lbfgs' in 0.22. Specify a solver to silence this warning.\n",
      "  FutureWarning)\n",
      "/home/yacine/anaconda3/lib/python3.7/site-packages/sklearn/linear_model/logistic.py:432: FutureWarning: Default solver will be changed to 'lbfgs' in 0.22. Specify a solver to silence this warning.\n",
      "  FutureWarning)\n",
      "/home/yacine/anaconda3/lib/python3.7/site-packages/sklearn/linear_model/logistic.py:432: FutureWarning: Default solver will be changed to 'lbfgs' in 0.22. Specify a solver to silence this warning.\n",
      "  FutureWarning)\n",
      "/home/yacine/anaconda3/lib/python3.7/site-packages/sklearn/linear_model/logistic.py:432: FutureWarning: Default solver will be changed to 'lbfgs' in 0.22. Specify a solver to silence this warning.\n",
      "  FutureWarning)\n",
      "/home/yacine/anaconda3/lib/python3.7/site-packages/sklearn/linear_model/logistic.py:432: FutureWarning: Default solver will be changed to 'lbfgs' in 0.22. Specify a solver to silence this warning.\n",
      "  FutureWarning)\n",
      "/home/yacine/anaconda3/lib/python3.7/site-packages/sklearn/linear_model/logistic.py:432: FutureWarning: Default solver will be changed to 'lbfgs' in 0.22. Specify a solver to silence this warning.\n",
      "  FutureWarning)\n",
      "/home/yacine/anaconda3/lib/python3.7/site-packages/sklearn/linear_model/logistic.py:432: FutureWarning: Default solver will be changed to 'lbfgs' in 0.22. Specify a solver to silence this warning.\n",
      "  FutureWarning)\n",
      "/home/yacine/anaconda3/lib/python3.7/site-packages/sklearn/linear_model/logistic.py:432: FutureWarning: Default solver will be changed to 'lbfgs' in 0.22. Specify a solver to silence this warning.\n",
      "  FutureWarning)\n",
      "/home/yacine/anaconda3/lib/python3.7/site-packages/sklearn/linear_model/logistic.py:432: FutureWarning: Default solver will be changed to 'lbfgs' in 0.22. Specify a solver to silence this warning.\n",
      "  FutureWarning)\n"
     ]
    },
    {
     "name": "stdout",
     "output_type": "stream",
     "text": [
      "Accuracies:  [0.6666666666666666, 0.4166666666666667, 0.6923076923076923, 0.9444444444444444, 0.5294117647058824, 0.7272727272727273, 0.7142857142857143, 0.55, 0.8181818181818182, 0.68, 0.5384615384615384, 0.6470588235294118, 0.6153846153846154, 0.8636363636363636, 0.65, 0.6842105263157895, 0.8888888888888888, 0.5, 0.43478260869565216, 0.8, 0.5, 0.8421052631578947, 0.95, 0.92, 0.6896551724137931, 0.7222222222222222, 0.9523809523809523, 0.6666666666666666, 0.3333333333333333, 0.8, 0.5238095238095238, 0.6, 0.6111111111111112, 0.6744186046511628, 0.6363636363636364, 0.8095238095238095, 0.7, 0.4444444444444444, 0.6363636363636364, 0.36666666666666664, 0.7083333333333334, 0.7058823529411765, 0.7307692307692307, 0.4117647058823529, 0.875, 0.5625, 0.9230769230769231, 0.47058823529411764, 0.5384615384615384, 0.4117647058823529, 0.375, 0.625, 0.7692307692307693]\n"
     ]
    },
    {
     "data": {
      "image/png": "[encoded data removed]",
      "text/plain": [
       "<Figure size 432x288 with 1 Axes>"
      ]
     },
     "metadata": {
      "needs_background": "light"
     },
     "output_type": "display_data"
    },
    {
     "name": "stdout",
     "output_type": "stream",
     "text": [
      "Mean Accuracies: 0.6575112773098967\n"
     ]
    }
   ],
   "source": [
    "# Notes:\n",
    "# The MSK participants are very long to run since there are a lots of participants\n",
    "# We will pause this and go with the Healthy participant for now\n",
    "participant_type = \"MSK\" #HEALTHY, MSK or BOTH\n",
    "\n",
    "gs = create_gridsearch_pipeline()\n",
    "X,y,group,df = pre_process(input_filename, participant_type)\n",
    "clf = LogisticRegression(penalty=\"l1\", C=2.7825594022071245)\n",
    "pipe = Pipeline([\n",
    "    ('imputer', SimpleImputer(missing_values=np.nan, strategy='mean')),\n",
    "    ('scaler', StandardScaler()),\n",
    "    ('clf', clf)])\n",
    "accuracies = classify_loso(X, y, group, pipe)\n",
    "#accuracies, best_params = classify_loso_model_selection(X, y, group, gs)\n",
    "\n",
    "print(\"Accuracies: \", str(accuracies))\n",
    "plot_acc(group, accuracies, participant_type)\n",
    "print(\"Mean Accuracies: \" + str(np.mean(accuracies)))"
   ]
  },
  {
   "cell_type": "code",
   "execution_count": 10,
   "metadata": {},
   "outputs": [
    {
     "data": {
      "text/plain": [
       "{'LOG_penality=l2_C=2.7825594022071245': 11, 'SVC_kernel=linear_C=1000': 1}"
      ]
     },
     "execution_count": 10,
     "metadata": {},
     "output_type": "execute_result"
    }
   ],
   "source": [
    "# Find te best model by looking at the occurence of the model parameters\n",
    "model_occurence = find_best_model(best_params)\n",
    "model_occurence"
   ]
  },
  {
   "cell_type": "code",
   "execution_count": 12,
   "metadata": {},
   "outputs": [
    {
     "name": "stderr",
     "output_type": "stream",
     "text": [
      "/home/yacine/anaconda3/lib/python3.7/site-packages/sklearn/linear_model/logistic.py:432: FutureWarning: Default solver will be changed to 'lbfgs' in 0.22. Specify a solver to silence this warning.\n",
      "  FutureWarning)\n"
     ]
    },
    {
     "data": {
      "image/png": "[encoded data removed]",
      "text/plain": [
       "<Figure size 432x288 with 1 Axes>"
      ]
     },
     "metadata": {
      "needs_background": "light"
     },
     "output_type": "display_data"
    }
   ],
   "source": [
    "# Once we know the model occurence we can train the best model on the full dataset\n",
    "clf = LogisticRegression(penalty=\"l1\", C=2.7825594022071245)\n",
    "pipe = Pipeline([\n",
    "    ('imputer', SimpleImputer(missing_values=np.nan, strategy='mean')),\n",
    "    ('scaler', StandardScaler()),\n",
    "    ('clf', clf)])\n",
    "pipe.fit(X, y)\n",
    "clf = pipe.steps[2][1]\n",
    "feature_weights = clf.coef_[0]\n",
    "\n",
    "\n",
    "feature_df = df.drop(['id', 'type', 'is_hot'], axis=1)\n",
    "feature_names = list(feature_df.columns.values)\n",
    "\n",
    "ax = sns.barplot(x=feature_names, y=feature_weights)\n",
    "plt.show()\n",
    "\n",
    "# Here there might be some cool visualization we cool do by looking only at a per bandpass basis\n",
    "# or grouping the bandpass together to have four bar"
   ]
  },
  {
   "cell_type": "code",
   "execution_count": 15,
   "metadata": {},
   "outputs": [
    {
     "data": {
      "text/plain": [
       "76"
      ]
     },
     "execution_count": 15,
     "metadata": {},
     "output_type": "execute_result"
    }
   ],
   "source": [
    "19*4"
   ]
  },
  {
   "cell_type": "code",
   "execution_count": null,
   "metadata": {},
   "outputs": [],
   "source": []
  }
 ],
 "metadata": {
  "kernelspec": {
   "display_name": "Python 3",
   "language": "python",
   "name": "python3"
  },
  "language_info": {
   "codemirror_mode": {
    "name": "ipython",
    "version": 3
   },
   "file_extension": ".py",
   "mimetype": "text/x-python",
   "name": "python",
   "nbconvert_exporter": "python",
   "pygments_lexer": "ipython3",
   "version": "3.7.4"
  }
 },
 "nbformat": 4,
 "nbformat_minor": 2
}
