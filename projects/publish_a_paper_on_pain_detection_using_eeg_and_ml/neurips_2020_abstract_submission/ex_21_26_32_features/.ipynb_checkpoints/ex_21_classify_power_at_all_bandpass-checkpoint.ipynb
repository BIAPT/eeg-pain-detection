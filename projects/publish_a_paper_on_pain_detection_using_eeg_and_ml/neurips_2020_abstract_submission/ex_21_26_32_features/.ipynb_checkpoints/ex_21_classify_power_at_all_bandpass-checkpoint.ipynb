{
 "cells": [
  {
   "cell_type": "markdown",
   "metadata": {},
   "source": [
    "# Yacine Mahdid May 24 2020\n",
    "In this notebook the goal is to augment the analysis by using power feature at all bandpass of interest. This analysis has four steps:\n",
    "1. [ ] Use LOSO+Model selection to find the average accuracies for both healthy and MSK with all features\n",
    "2. [ ] Find which model is the best one using all the params and get these parameters\n",
    "3. [ ] Train the final model on the best parameters (This doesn't have to be automated)\n",
    "4. [ ] Visualize the feature weights with corresponding labels as a barplot\n",
    "\n",
    "## Features in this analysis\n",
    "The feature listed belows are for all the 19 channels\n",
    "- Power at Delta (0.5 - 4Hz)\n",
    "- Power at Theta (4 - 8Hz)\n",
    "- Power at Alpha (8 - 14Hz)\n",
    "- Power at Beta (14 - 32Hz)\n",
    "\n",
    "\n",
    "## Classifier In Gridsearch\n",
    "- Linear SVM\n",
    "- Linear Regression\n",
    "- Decision Trees"
   ]
  },
  {
   "cell_type": "code",
   "execution_count": 1,
   "metadata": {
    "scrolled": true
   },
   "outputs": [
    {
     "ename": "ModuleNotFoundError",
     "evalue": "No module named 'ml_tools'",
     "output_type": "error",
     "traceback": [
      "\u001b[0;31m---------------------------------------------------------------------------\u001b[0m",
      "\u001b[0;31mModuleNotFoundError\u001b[0m                       Traceback (most recent call last)",
      "\u001b[0;32m<ipython-input-1-8da3a6b11db5>\u001b[0m in \u001b[0;36m<module>\u001b[0;34m\u001b[0m\n\u001b[1;32m      5\u001b[0m \u001b[0;32mimport\u001b[0m \u001b[0mmatplotlib\u001b[0m\u001b[0;34m.\u001b[0m\u001b[0mpyplot\u001b[0m \u001b[0;32mas\u001b[0m \u001b[0mplt\u001b[0m\u001b[0;34m\u001b[0m\u001b[0;34m\u001b[0m\u001b[0m\n\u001b[1;32m      6\u001b[0m \u001b[0;34m\u001b[0m\u001b[0m\n\u001b[0;32m----> 7\u001b[0;31m \u001b[0;32mfrom\u001b[0m \u001b[0mml_tools\u001b[0m\u001b[0;34m.\u001b[0m\u001b[0mclassification\u001b[0m \u001b[0;32mimport\u001b[0m \u001b[0mclassify_loso\u001b[0m\u001b[0;34m\u001b[0m\u001b[0;34m\u001b[0m\u001b[0m\n\u001b[0m\u001b[1;32m      8\u001b[0m \u001b[0;32mfrom\u001b[0m \u001b[0mml_tools\u001b[0m\u001b[0;34m.\u001b[0m\u001b[0mclassification\u001b[0m \u001b[0;32mimport\u001b[0m \u001b[0mcreate_gridsearch_pipeline\u001b[0m\u001b[0;34m\u001b[0m\u001b[0;34m\u001b[0m\u001b[0m\n\u001b[1;32m      9\u001b[0m \u001b[0;32mfrom\u001b[0m \u001b[0mml_tools\u001b[0m\u001b[0;34m.\u001b[0m\u001b[0mpre_processing\u001b[0m \u001b[0;32mimport\u001b[0m \u001b[0mpre_process\u001b[0m\u001b[0;34m\u001b[0m\u001b[0;34m\u001b[0m\u001b[0m\n",
      "\u001b[0;31mModuleNotFoundError\u001b[0m: No module named 'ml_tools'"
     ]
    }
   ],
   "source": [
    "import numpy as np\n",
    "import pandas as pd\n",
    "\n",
    "import seaborn as sns\n",
    "import matplotlib.pyplot as plt\n",
    "\n",
    "from ml_tools.classification import classify_loso\n",
    "from ml_tools.classification import create_gridsearch_pipeline\n",
    "from ml_tools.pre_processing import pre_process\n",
    "\n",
    "def plot_acc(group, accuracies, participant_type):\n",
    "    # Plot of Each Participant Accuracies in the Cross Validation Scheme\n",
    "    p_id = np.unique(group)\n",
    "    sns.barplot(x=p_id, y=accuracies, palette=\"deep\").set_title(f\"Accuracy for each participant in {participant_type}\")\n",
    "    plt.show()\n",
    "    \n",
    "# Global Experimental Variable\n",
    "input_filename = '/media/yacine/Data/pain_and_eeg/machine_learning_data/features_litterature.csv'"
   ]
  },
  {
   "cell_type": "code",
   "execution_count": 7,
   "metadata": {},
   "outputs": [
    {
     "data": {
      "text/plain": [
       "[{'clf': SVC(C=10, cache_size=200, class_weight=None, coef0=0.0,\n",
       "      decision_function_shape='ovr', degree=3, gamma='auto_deprecated',\n",
       "      kernel='linear', max_iter=-1, probability=False, random_state=None,\n",
       "      shrinking=True, tol=0.001, verbose=False),\n",
       "  'clf__C': 1,\n",
       "  'clf__kernel': 'linear'},\n",
       " {'clf': SVC(C=10, cache_size=200, class_weight=None, coef0=0.0,\n",
       "      decision_function_shape='ovr', degree=3, gamma='auto_deprecated',\n",
       "      kernel='linear', max_iter=-1, probability=False, random_state=None,\n",
       "      shrinking=True, tol=0.001, verbose=False),\n",
       "  'clf__C': 1,\n",
       "  'clf__kernel': 'linear'},\n",
       " {'clf': SVC(C=10, cache_size=200, class_weight=None, coef0=0.0,\n",
       "      decision_function_shape='ovr', degree=3, gamma='auto_deprecated',\n",
       "      kernel='linear', max_iter=-1, probability=False, random_state=None,\n",
       "      shrinking=True, tol=0.001, verbose=False),\n",
       "  'clf__C': 100,\n",
       "  'clf__kernel': 'linear'},\n",
       " {'clf': SVC(C=10, cache_size=200, class_weight=None, coef0=0.0,\n",
       "      decision_function_shape='ovr', degree=3, gamma='auto_deprecated',\n",
       "      kernel='linear', max_iter=-1, probability=False, random_state=None,\n",
       "      shrinking=True, tol=0.001, verbose=False),\n",
       "  'clf__C': 100,\n",
       "  'clf__kernel': 'linear'},\n",
       " {'clf': SVC(C=10, cache_size=200, class_weight=None, coef0=0.0,\n",
       "      decision_function_shape='ovr', degree=3, gamma='auto_deprecated',\n",
       "      kernel='linear', max_iter=-1, probability=False, random_state=None,\n",
       "      shrinking=True, tol=0.001, verbose=False),\n",
       "  'clf__C': 1,\n",
       "  'clf__kernel': 'linear'},\n",
       " {'clf': DecisionTreeClassifier(class_weight=None, criterion='entropy', max_depth=None,\n",
       "                         max_features=None, max_leaf_nodes=None,\n",
       "                         min_impurity_decrease=0.0, min_impurity_split=None,\n",
       "                         min_samples_leaf=1, min_samples_split=2,\n",
       "                         min_weight_fraction_leaf=0.0, presort=False,\n",
       "                         random_state=None, splitter='best'),\n",
       "  'clf__criterion': 'gini'},\n",
       " {'clf': SVC(C=10, cache_size=200, class_weight=None, coef0=0.0,\n",
       "      decision_function_shape='ovr', degree=3, gamma='auto_deprecated',\n",
       "      kernel='linear', max_iter=-1, probability=False, random_state=None,\n",
       "      shrinking=True, tol=0.001, verbose=False),\n",
       "  'clf__C': 100,\n",
       "  'clf__kernel': 'linear'},\n",
       " {'clf': SVC(C=10, cache_size=200, class_weight=None, coef0=0.0,\n",
       "      decision_function_shape='ovr', degree=3, gamma='auto_deprecated',\n",
       "      kernel='linear', max_iter=-1, probability=False, random_state=None,\n",
       "      shrinking=True, tol=0.001, verbose=False),\n",
       "  'clf__C': 1,\n",
       "  'clf__kernel': 'linear'},\n",
       " {'clf': SVC(C=10, cache_size=200, class_weight=None, coef0=0.0,\n",
       "      decision_function_shape='ovr', degree=3, gamma='auto_deprecated',\n",
       "      kernel='linear', max_iter=-1, probability=False, random_state=None,\n",
       "      shrinking=True, tol=0.001, verbose=False),\n",
       "  'clf__C': 100,\n",
       "  'clf__kernel': 'linear'},\n",
       " {'clf': SVC(C=10, cache_size=200, class_weight=None, coef0=0.0,\n",
       "      decision_function_shape='ovr', degree=3, gamma='auto_deprecated',\n",
       "      kernel='linear', max_iter=-1, probability=False, random_state=None,\n",
       "      shrinking=True, tol=0.001, verbose=False),\n",
       "  'clf__C': 10,\n",
       "  'clf__kernel': 'linear'},\n",
       " {'clf': LogisticRegression(C=10000.0, class_weight=None, dual=False, fit_intercept=True,\n",
       "                     intercept_scaling=1, l1_ratio=None, max_iter=100,\n",
       "                     multi_class='warn', n_jobs=None, penalty='l2',\n",
       "                     random_state=None, solver='liblinear', tol=0.0001, verbose=0,\n",
       "                     warm_start=False),\n",
       "  'clf__C': 7.742636826811269,\n",
       "  'clf__penalty': 'l1',\n",
       "  'clf__solver': 'liblinear'},\n",
       " {'clf': SVC(C=10, cache_size=200, class_weight=None, coef0=0.0,\n",
       "      decision_function_shape='ovr', degree=3, gamma='auto_deprecated',\n",
       "      kernel='linear', max_iter=-1, probability=False, random_state=None,\n",
       "      shrinking=True, tol=0.001, verbose=False),\n",
       "  'clf__C': 10,\n",
       "  'clf__kernel': 'linear'}]"
      ]
     },
     "execution_count": 7,
     "metadata": {},
     "output_type": "execute_result"
    }
   ],
   "source": [
    "# Experiment with Healthy\n",
    "participant_type = \"HEALTHY\" #HEALTHY, MSK or BOTH\n",
    "\n",
    "gs = create_gridsearch_pipeline()\n",
    "X,y,group = pre_process(input_filename, participant_type)\n",
    "accuracies, best_params = classify_loso_model_selection(X, y, group, gs)\n",
    "\n",
    "print(\"Accuracies: \", str(accuracies))\n",
    "plot_acc(group, accuracies, participant_type)\n",
    "print(\"Mean Accuracies: \" + str(np.mean(accuracies)))"
   ]
  },
  {
   "cell_type": "code",
   "execution_count": null,
   "metadata": {},
   "outputs": [],
   "source": [
    "participant_type = \"MSK\" #HEALTHY, MSK or BOTH\n",
    "\n",
    "gs = create_gridsearch_pipeline()\n",
    "X,y,group = pre_process(input_filename, participant_type)\n",
    "accuracies, best_params = classify_loso_model_selection(X, y, group, gs)\n",
    "\n",
    "print(\"Accuracies: \", str(accuracies))\n",
    "plot_acc(group, accuracies, participant_type)\n",
    "print(\"Mean Accuracies: \" + str(np.mean(accuracies)))"
   ]
  }
 ],
 "metadata": {
  "kernelspec": {
   "display_name": "Python 3",
   "language": "python",
   "name": "python3"
  },
  "language_info": {
   "codemirror_mode": {
    "name": "ipython",
    "version": 3
   },
   "file_extension": ".py",
   "mimetype": "text/x-python",
   "name": "python",
   "nbconvert_exporter": "python",
   "pygments_lexer": "ipython3",
   "version": "3.7.4"
  }
 },
 "nbformat": 4,
 "nbformat_minor": 2
}
