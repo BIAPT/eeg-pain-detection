{
 "cells": [
  {
   "cell_type": "markdown",
   "metadata": {},
   "source": [
    "# Yacine Mahdid May 24 2020\n",
    "In this notebook the goal is to augment the analysis by using power, peak-frequencies and wpli feature at all bandpass of interest. This analysis has four steps:\n",
    "1. [x] Use LOSO+Model selection to find the average accuracies for both healthy and MSK with all features\n",
    "2. [X] Find which model is the best one using all the params and get these parameters\n",
    "3. [X] Train the final model on the best parameters (This doesn't have to be automated)\n",
    "4. [X] Visualize the feature weights with corresponding labels as a barplot\n",
    "\n",
    "## Features in this analysis\n",
    "The feature listed belows are for all the 19 channels\n",
    "- Power, peak frequency and average wPLI at Delta (0.5 - 4Hz)\n",
    "- Power, peak frequency and average wPLI at Theta (4 - 8Hz)\n",
    "- Power, peak frequency and average wPLI at Alpha (8 - 14Hz)\n",
    "- Power, peak frequency and average wPLI at Beta (14 - 32Hz)\n",
    "\n",
    "\n",
    "\n",
    "\n",
    "## Classifier In Gridsearch\n",
    "- Linear SVM\n",
    "- Linear Regression\n",
    "- Decision Trees"
   ]
  },
  {
   "cell_type": "code",
   "execution_count": 1,
   "metadata": {
    "scrolled": true
   },
   "outputs": [],
   "source": [
    "import numpy as np\n",
    "import pandas as pd\n",
    "\n",
    "import seaborn as sns\n",
    "import matplotlib.pyplot as plt\n",
    "\n",
    "from sklearn.linear_model import LogisticRegression\n",
    "from sklearn.tree import DecisionTreeClassifier\n",
    "from sklearn.svm import SVC\n",
    "\n",
    "from ml_tools.classification import classify_loso_model_selection\n",
    "from ml_tools.classification import classify_loso\n",
    "from ml_tools.classification import create_gridsearch_pipeline\n",
    "from ml_tools.pre_processing import pre_process\n",
    "\n",
    "from sklearn.pipeline import Pipeline\n",
    "from sklearn.preprocessing import StandardScaler\n",
    "from sklearn.impute import SimpleImputer\n",
    "\n",
    "def plot_acc(group, accuracies, participant_type):\n",
    "    # Plot of Each Participant Accuracies in the Cross Validation Scheme\n",
    "    p_id = np.unique(group)\n",
    "    sns.barplot(x=p_id, y=accuracies, palette=\"deep\").set_title(f\"Accuracy for each participant in {participant_type}\")\n",
    "    plt.show()\n",
    "\n",
    "def find_best_model(best_params):\n",
    "    models_occurence = {}\n",
    "    for param in best_params:\n",
    "        clf = param['clf']\n",
    "        if isinstance(clf, LogisticRegression):\n",
    "            key = \"LOG\" + \"_penality=\" + str(clf.penalty) + \"_C=\" + str(clf.C)\n",
    "        elif isinstance(clf, SVC):\n",
    "            key = \"SVC\" + \"_kernel=linear_C=\" + str(clf.C)\n",
    "        elif isinstance(clf, DecisionTreeClassifier):\n",
    "            key = \"DEC\" + \"_criterion\" + str(clf.criterion)\n",
    "\n",
    "        if key not in models_occurence:\n",
    "            models_occurence[key] = 1\n",
    "        else:\n",
    "            models_occurence[key] = models_occurence[key] + 1\n",
    "\n",
    "    return models_occurence\n",
    "# Global Experimental Variable\n",
    "input_filename = '/media/yacine/Data/pain_and_eeg/machine_learning_data/features_litterature.csv'"
   ]
  },
  {
   "cell_type": "code",
   "execution_count": 3,
   "metadata": {},
   "outputs": [
    {
     "name": "stdout",
     "output_type": "stream",
     "text": [
      "Number of folds left: 12\n"
     ]
    },
    {
     "name": "stderr",
     "output_type": "stream",
     "text": [
      "/home/yacine/anaconda3/lib/python3.7/site-packages/sklearn/model_selection/_search.py:814: DeprecationWarning: The default of the `iid` parameter will change from True to False in version 0.22 and will be removed in 0.24. This will change numeric results when test-set sizes are unequal.\n",
      "  DeprecationWarning)\n"
     ]
    },
    {
     "name": "stdout",
     "output_type": "stream",
     "text": [
      "Number of folds left: 11\n"
     ]
    },
    {
     "name": "stderr",
     "output_type": "stream",
     "text": [
      "/home/yacine/anaconda3/lib/python3.7/site-packages/sklearn/model_selection/_search.py:814: DeprecationWarning: The default of the `iid` parameter will change from True to False in version 0.22 and will be removed in 0.24. This will change numeric results when test-set sizes are unequal.\n",
      "  DeprecationWarning)\n"
     ]
    },
    {
     "name": "stdout",
     "output_type": "stream",
     "text": [
      "Number of folds left: 10\n"
     ]
    },
    {
     "name": "stderr",
     "output_type": "stream",
     "text": [
      "/home/yacine/anaconda3/lib/python3.7/site-packages/sklearn/model_selection/_search.py:814: DeprecationWarning: The default of the `iid` parameter will change from True to False in version 0.22 and will be removed in 0.24. This will change numeric results when test-set sizes are unequal.\n",
      "  DeprecationWarning)\n"
     ]
    },
    {
     "name": "stdout",
     "output_type": "stream",
     "text": [
      "Number of folds left: 9\n"
     ]
    },
    {
     "name": "stderr",
     "output_type": "stream",
     "text": [
      "/home/yacine/anaconda3/lib/python3.7/site-packages/sklearn/model_selection/_search.py:814: DeprecationWarning: The default of the `iid` parameter will change from True to False in version 0.22 and will be removed in 0.24. This will change numeric results when test-set sizes are unequal.\n",
      "  DeprecationWarning)\n"
     ]
    },
    {
     "name": "stdout",
     "output_type": "stream",
     "text": [
      "Number of folds left: 8\n"
     ]
    },
    {
     "name": "stderr",
     "output_type": "stream",
     "text": [
      "/home/yacine/anaconda3/lib/python3.7/site-packages/sklearn/model_selection/_search.py:814: DeprecationWarning: The default of the `iid` parameter will change from True to False in version 0.22 and will be removed in 0.24. This will change numeric results when test-set sizes are unequal.\n",
      "  DeprecationWarning)\n"
     ]
    },
    {
     "name": "stdout",
     "output_type": "stream",
     "text": [
      "Number of folds left: 7\n"
     ]
    },
    {
     "name": "stderr",
     "output_type": "stream",
     "text": [
      "/home/yacine/anaconda3/lib/python3.7/site-packages/sklearn/model_selection/_search.py:814: DeprecationWarning: The default of the `iid` parameter will change from True to False in version 0.22 and will be removed in 0.24. This will change numeric results when test-set sizes are unequal.\n",
      "  DeprecationWarning)\n"
     ]
    },
    {
     "name": "stdout",
     "output_type": "stream",
     "text": [
      "Number of folds left: 6\n"
     ]
    },
    {
     "name": "stderr",
     "output_type": "stream",
     "text": [
      "/home/yacine/anaconda3/lib/python3.7/site-packages/sklearn/model_selection/_search.py:814: DeprecationWarning: The default of the `iid` parameter will change from True to False in version 0.22 and will be removed in 0.24. This will change numeric results when test-set sizes are unequal.\n",
      "  DeprecationWarning)\n"
     ]
    },
    {
     "name": "stdout",
     "output_type": "stream",
     "text": [
      "Number of folds left: 5\n"
     ]
    },
    {
     "name": "stderr",
     "output_type": "stream",
     "text": [
      "/home/yacine/anaconda3/lib/python3.7/site-packages/sklearn/model_selection/_search.py:814: DeprecationWarning: The default of the `iid` parameter will change from True to False in version 0.22 and will be removed in 0.24. This will change numeric results when test-set sizes are unequal.\n",
      "  DeprecationWarning)\n"
     ]
    },
    {
     "name": "stdout",
     "output_type": "stream",
     "text": [
      "Number of folds left: 4\n"
     ]
    },
    {
     "name": "stderr",
     "output_type": "stream",
     "text": [
      "/home/yacine/anaconda3/lib/python3.7/site-packages/sklearn/model_selection/_search.py:814: DeprecationWarning: The default of the `iid` parameter will change from True to False in version 0.22 and will be removed in 0.24. This will change numeric results when test-set sizes are unequal.\n",
      "  DeprecationWarning)\n"
     ]
    },
    {
     "name": "stdout",
     "output_type": "stream",
     "text": [
      "Number of folds left: 3\n"
     ]
    },
    {
     "name": "stderr",
     "output_type": "stream",
     "text": [
      "/home/yacine/anaconda3/lib/python3.7/site-packages/sklearn/model_selection/_search.py:814: DeprecationWarning: The default of the `iid` parameter will change from True to False in version 0.22 and will be removed in 0.24. This will change numeric results when test-set sizes are unequal.\n",
      "  DeprecationWarning)\n"
     ]
    },
    {
     "name": "stdout",
     "output_type": "stream",
     "text": [
      "Number of folds left: 2\n"
     ]
    },
    {
     "name": "stderr",
     "output_type": "stream",
     "text": [
      "/home/yacine/anaconda3/lib/python3.7/site-packages/sklearn/model_selection/_search.py:814: DeprecationWarning: The default of the `iid` parameter will change from True to False in version 0.22 and will be removed in 0.24. This will change numeric results when test-set sizes are unequal.\n",
      "  DeprecationWarning)\n"
     ]
    },
    {
     "name": "stdout",
     "output_type": "stream",
     "text": [
      "Number of folds left: 1\n"
     ]
    },
    {
     "name": "stderr",
     "output_type": "stream",
     "text": [
      "/home/yacine/anaconda3/lib/python3.7/site-packages/sklearn/model_selection/_search.py:814: DeprecationWarning: The default of the `iid` parameter will change from True to False in version 0.22 and will be removed in 0.24. This will change numeric results when test-set sizes are unequal.\n",
      "  DeprecationWarning)\n"
     ]
    },
    {
     "name": "stdout",
     "output_type": "stream",
     "text": [
      "Accuracies:  [0.6818181818181818, 1.0, 0.5555555555555556, 0.5238095238095238, 0.7916666666666666, 0.6956521739130435, 0.75, 0.5, 0.43478260869565216, 0.6818181818181818, 0.8260869565217391, 0.75]\n"
     ]
    },
    {
     "data": {
      "image/png": "[encoded data removed]",
      "text/plain": [
       "<Figure size 432x288 with 1 Axes>"
      ]
     },
     "metadata": {
      "needs_background": "light"
     },
     "output_type": "display_data"
    },
    {
     "name": "stdout",
     "output_type": "stream",
     "text": [
      "Mean Accuracies: 0.6825991540665454\n"
     ]
    },
    {
     "data": {
      "text/html": [
       "<div>\n",
       "<style scoped>\n",
       "    .dataframe tbody tr th:only-of-type {\n",
       "        vertical-align: middle;\n",
       "    }\n",
       "\n",
       "    .dataframe tbody tr th {\n",
       "        vertical-align: top;\n",
       "    }\n",
       "\n",
       "    .dataframe thead th {\n",
       "        text-align: right;\n",
       "    }\n",
       "</style>\n",
       "<table border=\"1\" class=\"dataframe\">\n",
       "  <thead>\n",
       "    <tr style=\"text-align: right;\">\n",
       "      <th></th>\n",
       "      <th>id</th>\n",
       "      <th>type</th>\n",
       "      <th>is_hot</th>\n",
       "      <th>fp1_delta_power</th>\n",
       "      <th>fp2_delta_power</th>\n",
       "      <th>fz_delta_power</th>\n",
       "      <th>f3_delta_power</th>\n",
       "      <th>f4_delta_power</th>\n",
       "      <th>f7_delta_power</th>\n",
       "      <th>f8_delta_power</th>\n",
       "      <th>...</th>\n",
       "      <th>c4_beta_wpli</th>\n",
       "      <th>t3_beta_wpli</th>\n",
       "      <th>t4_beta_wpli</th>\n",
       "      <th>t5_beta_wpli</th>\n",
       "      <th>t6_beta_wpli</th>\n",
       "      <th>pz_beta_wpli</th>\n",
       "      <th>p3_beta_wpli</th>\n",
       "      <th>p4_beta_wpli</th>\n",
       "      <th>o1_beta_wpli</th>\n",
       "      <th>o2_beta_wpli</th>\n",
       "    </tr>\n",
       "  </thead>\n",
       "  <tbody>\n",
       "    <tr>\n",
       "      <td>0</td>\n",
       "      <td>1</td>\n",
       "      <td>1</td>\n",
       "      <td>0</td>\n",
       "      <td>22.899</td>\n",
       "      <td>21.685</td>\n",
       "      <td>19.915</td>\n",
       "      <td>20.237</td>\n",
       "      <td>19.067</td>\n",
       "      <td>25.607</td>\n",
       "      <td>22.783</td>\n",
       "      <td>...</td>\n",
       "      <td>0.039848</td>\n",
       "      <td>NaN</td>\n",
       "      <td>NaN</td>\n",
       "      <td>0.002726</td>\n",
       "      <td>0.004716</td>\n",
       "      <td>0.006419</td>\n",
       "      <td>0.010346</td>\n",
       "      <td>0.005655</td>\n",
       "      <td>0.021648</td>\n",
       "      <td>0.009814</td>\n",
       "    </tr>\n",
       "    <tr>\n",
       "      <td>1</td>\n",
       "      <td>1</td>\n",
       "      <td>1</td>\n",
       "      <td>0</td>\n",
       "      <td>18.045</td>\n",
       "      <td>19.316</td>\n",
       "      <td>16.737</td>\n",
       "      <td>16.287</td>\n",
       "      <td>18.159</td>\n",
       "      <td>23.842</td>\n",
       "      <td>23.258</td>\n",
       "      <td>...</td>\n",
       "      <td>0.000000</td>\n",
       "      <td>NaN</td>\n",
       "      <td>NaN</td>\n",
       "      <td>0.006518</td>\n",
       "      <td>0.008076</td>\n",
       "      <td>0.005157</td>\n",
       "      <td>0.005912</td>\n",
       "      <td>0.009559</td>\n",
       "      <td>0.010494</td>\n",
       "      <td>0.013897</td>\n",
       "    </tr>\n",
       "    <tr>\n",
       "      <td>2</td>\n",
       "      <td>1</td>\n",
       "      <td>1</td>\n",
       "      <td>0</td>\n",
       "      <td>24.716</td>\n",
       "      <td>20.559</td>\n",
       "      <td>20.137</td>\n",
       "      <td>20.502</td>\n",
       "      <td>18.873</td>\n",
       "      <td>27.437</td>\n",
       "      <td>23.170</td>\n",
       "      <td>...</td>\n",
       "      <td>0.085168</td>\n",
       "      <td>NaN</td>\n",
       "      <td>NaN</td>\n",
       "      <td>0.021592</td>\n",
       "      <td>0.014717</td>\n",
       "      <td>0.029861</td>\n",
       "      <td>0.018823</td>\n",
       "      <td>0.021594</td>\n",
       "      <td>0.018645</td>\n",
       "      <td>0.014998</td>\n",
       "    </tr>\n",
       "    <tr>\n",
       "      <td>3</td>\n",
       "      <td>1</td>\n",
       "      <td>1</td>\n",
       "      <td>0</td>\n",
       "      <td>22.554</td>\n",
       "      <td>19.396</td>\n",
       "      <td>18.931</td>\n",
       "      <td>19.895</td>\n",
       "      <td>17.095</td>\n",
       "      <td>25.061</td>\n",
       "      <td>21.846</td>\n",
       "      <td>...</td>\n",
       "      <td>0.065796</td>\n",
       "      <td>NaN</td>\n",
       "      <td>NaN</td>\n",
       "      <td>0.008525</td>\n",
       "      <td>0.019107</td>\n",
       "      <td>0.007764</td>\n",
       "      <td>0.015277</td>\n",
       "      <td>0.013456</td>\n",
       "      <td>0.032267</td>\n",
       "      <td>0.007144</td>\n",
       "    </tr>\n",
       "    <tr>\n",
       "      <td>4</td>\n",
       "      <td>1</td>\n",
       "      <td>1</td>\n",
       "      <td>0</td>\n",
       "      <td>20.109</td>\n",
       "      <td>19.079</td>\n",
       "      <td>17.726</td>\n",
       "      <td>18.734</td>\n",
       "      <td>16.019</td>\n",
       "      <td>21.981</td>\n",
       "      <td>20.454</td>\n",
       "      <td>...</td>\n",
       "      <td>0.038918</td>\n",
       "      <td>NaN</td>\n",
       "      <td>NaN</td>\n",
       "      <td>0.091696</td>\n",
       "      <td>0.035354</td>\n",
       "      <td>0.032495</td>\n",
       "      <td>0.039161</td>\n",
       "      <td>0.038287</td>\n",
       "      <td>0.079835</td>\n",
       "      <td>0.018044</td>\n",
       "    </tr>\n",
       "    <tr>\n",
       "      <td>...</td>\n",
       "      <td>...</td>\n",
       "      <td>...</td>\n",
       "      <td>...</td>\n",
       "      <td>...</td>\n",
       "      <td>...</td>\n",
       "      <td>...</td>\n",
       "      <td>...</td>\n",
       "      <td>...</td>\n",
       "      <td>...</td>\n",
       "      <td>...</td>\n",
       "      <td>...</td>\n",
       "      <td>...</td>\n",
       "      <td>...</td>\n",
       "      <td>...</td>\n",
       "      <td>...</td>\n",
       "      <td>...</td>\n",
       "      <td>...</td>\n",
       "      <td>...</td>\n",
       "      <td>...</td>\n",
       "      <td>...</td>\n",
       "      <td>...</td>\n",
       "    </tr>\n",
       "    <tr>\n",
       "      <td>233</td>\n",
       "      <td>13</td>\n",
       "      <td>1</td>\n",
       "      <td>1</td>\n",
       "      <td>21.233</td>\n",
       "      <td>26.780</td>\n",
       "      <td>16.821</td>\n",
       "      <td>15.673</td>\n",
       "      <td>18.676</td>\n",
       "      <td>25.178</td>\n",
       "      <td>27.625</td>\n",
       "      <td>...</td>\n",
       "      <td>0.059408</td>\n",
       "      <td>0.041181</td>\n",
       "      <td>0.034475</td>\n",
       "      <td>0.040767</td>\n",
       "      <td>0.044434</td>\n",
       "      <td>0.050616</td>\n",
       "      <td>0.025025</td>\n",
       "      <td>0.060432</td>\n",
       "      <td>0.020502</td>\n",
       "      <td>0.030932</td>\n",
       "    </tr>\n",
       "    <tr>\n",
       "      <td>234</td>\n",
       "      <td>13</td>\n",
       "      <td>1</td>\n",
       "      <td>1</td>\n",
       "      <td>18.163</td>\n",
       "      <td>23.708</td>\n",
       "      <td>15.590</td>\n",
       "      <td>14.989</td>\n",
       "      <td>19.528</td>\n",
       "      <td>23.212</td>\n",
       "      <td>27.909</td>\n",
       "      <td>...</td>\n",
       "      <td>0.022384</td>\n",
       "      <td>0.008363</td>\n",
       "      <td>0.059376</td>\n",
       "      <td>0.005833</td>\n",
       "      <td>0.047576</td>\n",
       "      <td>0.033577</td>\n",
       "      <td>0.018275</td>\n",
       "      <td>0.041769</td>\n",
       "      <td>0.013826</td>\n",
       "      <td>0.019184</td>\n",
       "    </tr>\n",
       "    <tr>\n",
       "      <td>235</td>\n",
       "      <td>13</td>\n",
       "      <td>1</td>\n",
       "      <td>1</td>\n",
       "      <td>20.138</td>\n",
       "      <td>25.910</td>\n",
       "      <td>17.005</td>\n",
       "      <td>14.137</td>\n",
       "      <td>18.955</td>\n",
       "      <td>21.219</td>\n",
       "      <td>28.452</td>\n",
       "      <td>...</td>\n",
       "      <td>0.025809</td>\n",
       "      <td>0.021943</td>\n",
       "      <td>0.000000</td>\n",
       "      <td>0.012655</td>\n",
       "      <td>0.045346</td>\n",
       "      <td>0.039628</td>\n",
       "      <td>0.014923</td>\n",
       "      <td>0.011943</td>\n",
       "      <td>0.024625</td>\n",
       "      <td>0.035348</td>\n",
       "    </tr>\n",
       "    <tr>\n",
       "      <td>236</td>\n",
       "      <td>13</td>\n",
       "      <td>1</td>\n",
       "      <td>1</td>\n",
       "      <td>18.651</td>\n",
       "      <td>23.389</td>\n",
       "      <td>16.885</td>\n",
       "      <td>15.653</td>\n",
       "      <td>17.607</td>\n",
       "      <td>25.356</td>\n",
       "      <td>28.274</td>\n",
       "      <td>...</td>\n",
       "      <td>0.022644</td>\n",
       "      <td>0.019759</td>\n",
       "      <td>0.061607</td>\n",
       "      <td>0.030835</td>\n",
       "      <td>0.016450</td>\n",
       "      <td>0.014307</td>\n",
       "      <td>0.008466</td>\n",
       "      <td>0.010588</td>\n",
       "      <td>0.010393</td>\n",
       "      <td>0.030519</td>\n",
       "    </tr>\n",
       "    <tr>\n",
       "      <td>237</td>\n",
       "      <td>13</td>\n",
       "      <td>1</td>\n",
       "      <td>1</td>\n",
       "      <td>18.947</td>\n",
       "      <td>22.785</td>\n",
       "      <td>16.148</td>\n",
       "      <td>14.369</td>\n",
       "      <td>17.995</td>\n",
       "      <td>19.899</td>\n",
       "      <td>28.527</td>\n",
       "      <td>...</td>\n",
       "      <td>0.053484</td>\n",
       "      <td>0.008910</td>\n",
       "      <td>0.083791</td>\n",
       "      <td>0.017513</td>\n",
       "      <td>0.087116</td>\n",
       "      <td>0.041884</td>\n",
       "      <td>0.025250</td>\n",
       "      <td>0.066639</td>\n",
       "      <td>0.006664</td>\n",
       "      <td>0.028236</td>\n",
       "    </tr>\n",
       "  </tbody>\n",
       "</table>\n",
       "<p>238 rows × 159 columns</p>\n",
       "</div>"
      ],
      "text/plain": [
       "     id  type  is_hot  fp1_delta_power  fp2_delta_power  fz_delta_power  \\\n",
       "0     1     1       0           22.899           21.685          19.915   \n",
       "1     1     1       0           18.045           19.316          16.737   \n",
       "2     1     1       0           24.716           20.559          20.137   \n",
       "3     1     1       0           22.554           19.396          18.931   \n",
       "4     1     1       0           20.109           19.079          17.726   \n",
       "..   ..   ...     ...              ...              ...             ...   \n",
       "233  13     1       1           21.233           26.780          16.821   \n",
       "234  13     1       1           18.163           23.708          15.590   \n",
       "235  13     1       1           20.138           25.910          17.005   \n",
       "236  13     1       1           18.651           23.389          16.885   \n",
       "237  13     1       1           18.947           22.785          16.148   \n",
       "\n",
       "     f3_delta_power  f4_delta_power  f7_delta_power  f8_delta_power  ...  \\\n",
       "0            20.237          19.067          25.607          22.783  ...   \n",
       "1            16.287          18.159          23.842          23.258  ...   \n",
       "2            20.502          18.873          27.437          23.170  ...   \n",
       "3            19.895          17.095          25.061          21.846  ...   \n",
       "4            18.734          16.019          21.981          20.454  ...   \n",
       "..              ...             ...             ...             ...  ...   \n",
       "233          15.673          18.676          25.178          27.625  ...   \n",
       "234          14.989          19.528          23.212          27.909  ...   \n",
       "235          14.137          18.955          21.219          28.452  ...   \n",
       "236          15.653          17.607          25.356          28.274  ...   \n",
       "237          14.369          17.995          19.899          28.527  ...   \n",
       "\n",
       "     c4_beta_wpli  t3_beta_wpli  t4_beta_wpli  t5_beta_wpli  t6_beta_wpli  \\\n",
       "0        0.039848           NaN           NaN      0.002726      0.004716   \n",
       "1        0.000000           NaN           NaN      0.006518      0.008076   \n",
       "2        0.085168           NaN           NaN      0.021592      0.014717   \n",
       "3        0.065796           NaN           NaN      0.008525      0.019107   \n",
       "4        0.038918           NaN           NaN      0.091696      0.035354   \n",
       "..            ...           ...           ...           ...           ...   \n",
       "233      0.059408      0.041181      0.034475      0.040767      0.044434   \n",
       "234      0.022384      0.008363      0.059376      0.005833      0.047576   \n",
       "235      0.025809      0.021943      0.000000      0.012655      0.045346   \n",
       "236      0.022644      0.019759      0.061607      0.030835      0.016450   \n",
       "237      0.053484      0.008910      0.083791      0.017513      0.087116   \n",
       "\n",
       "     pz_beta_wpli  p3_beta_wpli  p4_beta_wpli  o1_beta_wpli  o2_beta_wpli  \n",
       "0        0.006419      0.010346      0.005655      0.021648      0.009814  \n",
       "1        0.005157      0.005912      0.009559      0.010494      0.013897  \n",
       "2        0.029861      0.018823      0.021594      0.018645      0.014998  \n",
       "3        0.007764      0.015277      0.013456      0.032267      0.007144  \n",
       "4        0.032495      0.039161      0.038287      0.079835      0.018044  \n",
       "..            ...           ...           ...           ...           ...  \n",
       "233      0.050616      0.025025      0.060432      0.020502      0.030932  \n",
       "234      0.033577      0.018275      0.041769      0.013826      0.019184  \n",
       "235      0.039628      0.014923      0.011943      0.024625      0.035348  \n",
       "236      0.014307      0.008466      0.010588      0.010393      0.030519  \n",
       "237      0.041884      0.025250      0.066639      0.006664      0.028236  \n",
       "\n",
       "[238 rows x 159 columns]"
      ]
     },
     "execution_count": 3,
     "metadata": {},
     "output_type": "execute_result"
    }
   ],
   "source": [
    "# Experiment with Healthy\n",
    "participant_type = \"HEALTHY\" #HEALTHY, MSK or BOTH\n",
    "\n",
    "gs = create_gridsearch_pipeline()\n",
    "X,y,group,df = pre_process(input_filename, participant_type)\n",
    "accuracies, best_params = classify_loso_model_selection(X, y, group, gs)\n",
    "\n",
    "print(\"Accuracies: \", str(accuracies))\n",
    "plot_acc(group, accuracies, participant_type)\n",
    "print(\"Mean Accuracies: \" + str(np.mean(accuracies)))\n",
    "df"
   ]
  },
  {
   "cell_type": "code",
   "execution_count": 6,
   "metadata": {},
   "outputs": [
    {
     "name": "stderr",
     "output_type": "stream",
     "text": [
      "/home/yacine/anaconda3/lib/python3.7/site-packages/sklearn/linear_model/logistic.py:432: FutureWarning: Default solver will be changed to 'lbfgs' in 0.22. Specify a solver to silence this warning.\n",
      "  FutureWarning)\n",
      "/home/yacine/anaconda3/lib/python3.7/site-packages/sklearn/linear_model/logistic.py:432: FutureWarning: Default solver will be changed to 'lbfgs' in 0.22. Specify a solver to silence this warning.\n",
      "  FutureWarning)\n",
      "/home/yacine/anaconda3/lib/python3.7/site-packages/sklearn/linear_model/logistic.py:432: FutureWarning: Default solver will be changed to 'lbfgs' in 0.22. Specify a solver to silence this warning.\n",
      "  FutureWarning)\n",
      "/home/yacine/anaconda3/lib/python3.7/site-packages/sklearn/linear_model/logistic.py:432: FutureWarning: Default solver will be changed to 'lbfgs' in 0.22. Specify a solver to silence this warning.\n",
      "  FutureWarning)\n",
      "/home/yacine/anaconda3/lib/python3.7/site-packages/sklearn/linear_model/logistic.py:432: FutureWarning: Default solver will be changed to 'lbfgs' in 0.22. Specify a solver to silence this warning.\n",
      "  FutureWarning)\n",
      "/home/yacine/anaconda3/lib/python3.7/site-packages/sklearn/linear_model/logistic.py:432: FutureWarning: Default solver will be changed to 'lbfgs' in 0.22. Specify a solver to silence this warning.\n",
      "  FutureWarning)\n",
      "/home/yacine/anaconda3/lib/python3.7/site-packages/sklearn/linear_model/logistic.py:432: FutureWarning: Default solver will be changed to 'lbfgs' in 0.22. Specify a solver to silence this warning.\n",
      "  FutureWarning)\n",
      "/home/yacine/anaconda3/lib/python3.7/site-packages/sklearn/linear_model/logistic.py:432: FutureWarning: Default solver will be changed to 'lbfgs' in 0.22. Specify a solver to silence this warning.\n",
      "  FutureWarning)\n",
      "/home/yacine/anaconda3/lib/python3.7/site-packages/sklearn/linear_model/logistic.py:432: FutureWarning: Default solver will be changed to 'lbfgs' in 0.22. Specify a solver to silence this warning.\n",
      "  FutureWarning)\n",
      "/home/yacine/anaconda3/lib/python3.7/site-packages/sklearn/linear_model/logistic.py:432: FutureWarning: Default solver will be changed to 'lbfgs' in 0.22. Specify a solver to silence this warning.\n",
      "  FutureWarning)\n",
      "/home/yacine/anaconda3/lib/python3.7/site-packages/sklearn/linear_model/logistic.py:432: FutureWarning: Default solver will be changed to 'lbfgs' in 0.22. Specify a solver to silence this warning.\n",
      "  FutureWarning)\n",
      "/home/yacine/anaconda3/lib/python3.7/site-packages/sklearn/linear_model/logistic.py:432: FutureWarning: Default solver will be changed to 'lbfgs' in 0.22. Specify a solver to silence this warning.\n",
      "  FutureWarning)\n",
      "/home/yacine/anaconda3/lib/python3.7/site-packages/sklearn/linear_model/logistic.py:432: FutureWarning: Default solver will be changed to 'lbfgs' in 0.22. Specify a solver to silence this warning.\n",
      "  FutureWarning)\n",
      "/home/yacine/anaconda3/lib/python3.7/site-packages/sklearn/linear_model/logistic.py:432: FutureWarning: Default solver will be changed to 'lbfgs' in 0.22. Specify a solver to silence this warning.\n",
      "  FutureWarning)\n",
      "/home/yacine/anaconda3/lib/python3.7/site-packages/sklearn/linear_model/logistic.py:432: FutureWarning: Default solver will be changed to 'lbfgs' in 0.22. Specify a solver to silence this warning.\n",
      "  FutureWarning)\n",
      "/home/yacine/anaconda3/lib/python3.7/site-packages/sklearn/linear_model/logistic.py:432: FutureWarning: Default solver will be changed to 'lbfgs' in 0.22. Specify a solver to silence this warning.\n",
      "  FutureWarning)\n",
      "/home/yacine/anaconda3/lib/python3.7/site-packages/sklearn/linear_model/logistic.py:432: FutureWarning: Default solver will be changed to 'lbfgs' in 0.22. Specify a solver to silence this warning.\n",
      "  FutureWarning)\n",
      "/home/yacine/anaconda3/lib/python3.7/site-packages/sklearn/linear_model/logistic.py:432: FutureWarning: Default solver will be changed to 'lbfgs' in 0.22. Specify a solver to silence this warning.\n",
      "  FutureWarning)\n",
      "/home/yacine/anaconda3/lib/python3.7/site-packages/sklearn/linear_model/logistic.py:432: FutureWarning: Default solver will be changed to 'lbfgs' in 0.22. Specify a solver to silence this warning.\n",
      "  FutureWarning)\n",
      "/home/yacine/anaconda3/lib/python3.7/site-packages/sklearn/linear_model/logistic.py:432: FutureWarning: Default solver will be changed to 'lbfgs' in 0.22. Specify a solver to silence this warning.\n",
      "  FutureWarning)\n",
      "/home/yacine/anaconda3/lib/python3.7/site-packages/sklearn/linear_model/logistic.py:432: FutureWarning: Default solver will be changed to 'lbfgs' in 0.22. Specify a solver to silence this warning.\n",
      "  FutureWarning)\n",
      "/home/yacine/anaconda3/lib/python3.7/site-packages/sklearn/linear_model/logistic.py:432: FutureWarning: Default solver will be changed to 'lbfgs' in 0.22. Specify a solver to silence this warning.\n",
      "  FutureWarning)\n",
      "/home/yacine/anaconda3/lib/python3.7/site-packages/sklearn/linear_model/logistic.py:432: FutureWarning: Default solver will be changed to 'lbfgs' in 0.22. Specify a solver to silence this warning.\n",
      "  FutureWarning)\n",
      "/home/yacine/anaconda3/lib/python3.7/site-packages/sklearn/linear_model/logistic.py:432: FutureWarning: Default solver will be changed to 'lbfgs' in 0.22. Specify a solver to silence this warning.\n",
      "  FutureWarning)\n",
      "/home/yacine/anaconda3/lib/python3.7/site-packages/sklearn/linear_model/logistic.py:432: FutureWarning: Default solver will be changed to 'lbfgs' in 0.22. Specify a solver to silence this warning.\n",
      "  FutureWarning)\n",
      "/home/yacine/anaconda3/lib/python3.7/site-packages/sklearn/linear_model/logistic.py:432: FutureWarning: Default solver will be changed to 'lbfgs' in 0.22. Specify a solver to silence this warning.\n",
      "  FutureWarning)\n",
      "/home/yacine/anaconda3/lib/python3.7/site-packages/sklearn/linear_model/logistic.py:432: FutureWarning: Default solver will be changed to 'lbfgs' in 0.22. Specify a solver to silence this warning.\n",
      "  FutureWarning)\n",
      "/home/yacine/anaconda3/lib/python3.7/site-packages/sklearn/linear_model/logistic.py:432: FutureWarning: Default solver will be changed to 'lbfgs' in 0.22. Specify a solver to silence this warning.\n",
      "  FutureWarning)\n",
      "/home/yacine/anaconda3/lib/python3.7/site-packages/sklearn/linear_model/logistic.py:432: FutureWarning: Default solver will be changed to 'lbfgs' in 0.22. Specify a solver to silence this warning.\n",
      "  FutureWarning)\n",
      "/home/yacine/anaconda3/lib/python3.7/site-packages/sklearn/linear_model/logistic.py:432: FutureWarning: Default solver will be changed to 'lbfgs' in 0.22. Specify a solver to silence this warning.\n",
      "  FutureWarning)\n",
      "/home/yacine/anaconda3/lib/python3.7/site-packages/sklearn/linear_model/logistic.py:432: FutureWarning: Default solver will be changed to 'lbfgs' in 0.22. Specify a solver to silence this warning.\n",
      "  FutureWarning)\n",
      "/home/yacine/anaconda3/lib/python3.7/site-packages/sklearn/linear_model/logistic.py:432: FutureWarning: Default solver will be changed to 'lbfgs' in 0.22. Specify a solver to silence this warning.\n",
      "  FutureWarning)\n",
      "/home/yacine/anaconda3/lib/python3.7/site-packages/sklearn/linear_model/logistic.py:432: FutureWarning: Default solver will be changed to 'lbfgs' in 0.22. Specify a solver to silence this warning.\n",
      "  FutureWarning)\n",
      "/home/yacine/anaconda3/lib/python3.7/site-packages/sklearn/linear_model/logistic.py:432: FutureWarning: Default solver will be changed to 'lbfgs' in 0.22. Specify a solver to silence this warning.\n",
      "  FutureWarning)\n",
      "/home/yacine/anaconda3/lib/python3.7/site-packages/sklearn/linear_model/logistic.py:432: FutureWarning: Default solver will be changed to 'lbfgs' in 0.22. Specify a solver to silence this warning.\n",
      "  FutureWarning)\n",
      "/home/yacine/anaconda3/lib/python3.7/site-packages/sklearn/linear_model/logistic.py:432: FutureWarning: Default solver will be changed to 'lbfgs' in 0.22. Specify a solver to silence this warning.\n",
      "  FutureWarning)\n",
      "/home/yacine/anaconda3/lib/python3.7/site-packages/sklearn/linear_model/logistic.py:432: FutureWarning: Default solver will be changed to 'lbfgs' in 0.22. Specify a solver to silence this warning.\n",
      "  FutureWarning)\n",
      "/home/yacine/anaconda3/lib/python3.7/site-packages/sklearn/linear_model/logistic.py:432: FutureWarning: Default solver will be changed to 'lbfgs' in 0.22. Specify a solver to silence this warning.\n",
      "  FutureWarning)\n",
      "/home/yacine/anaconda3/lib/python3.7/site-packages/sklearn/linear_model/logistic.py:432: FutureWarning: Default solver will be changed to 'lbfgs' in 0.22. Specify a solver to silence this warning.\n",
      "  FutureWarning)\n"
     ]
    },
    {
     "name": "stderr",
     "output_type": "stream",
     "text": [
      "/home/yacine/anaconda3/lib/python3.7/site-packages/sklearn/linear_model/logistic.py:432: FutureWarning: Default solver will be changed to 'lbfgs' in 0.22. Specify a solver to silence this warning.\n",
      "  FutureWarning)\n",
      "/home/yacine/anaconda3/lib/python3.7/site-packages/sklearn/linear_model/logistic.py:432: FutureWarning: Default solver will be changed to 'lbfgs' in 0.22. Specify a solver to silence this warning.\n",
      "  FutureWarning)\n",
      "/home/yacine/anaconda3/lib/python3.7/site-packages/sklearn/linear_model/logistic.py:432: FutureWarning: Default solver will be changed to 'lbfgs' in 0.22. Specify a solver to silence this warning.\n",
      "  FutureWarning)\n",
      "/home/yacine/anaconda3/lib/python3.7/site-packages/sklearn/linear_model/logistic.py:432: FutureWarning: Default solver will be changed to 'lbfgs' in 0.22. Specify a solver to silence this warning.\n",
      "  FutureWarning)\n",
      "/home/yacine/anaconda3/lib/python3.7/site-packages/sklearn/linear_model/logistic.py:432: FutureWarning: Default solver will be changed to 'lbfgs' in 0.22. Specify a solver to silence this warning.\n",
      "  FutureWarning)\n",
      "/home/yacine/anaconda3/lib/python3.7/site-packages/sklearn/linear_model/logistic.py:432: FutureWarning: Default solver will be changed to 'lbfgs' in 0.22. Specify a solver to silence this warning.\n",
      "  FutureWarning)\n",
      "/home/yacine/anaconda3/lib/python3.7/site-packages/sklearn/linear_model/logistic.py:432: FutureWarning: Default solver will be changed to 'lbfgs' in 0.22. Specify a solver to silence this warning.\n",
      "  FutureWarning)\n",
      "/home/yacine/anaconda3/lib/python3.7/site-packages/sklearn/linear_model/logistic.py:432: FutureWarning: Default solver will be changed to 'lbfgs' in 0.22. Specify a solver to silence this warning.\n",
      "  FutureWarning)\n",
      "/home/yacine/anaconda3/lib/python3.7/site-packages/sklearn/linear_model/logistic.py:432: FutureWarning: Default solver will be changed to 'lbfgs' in 0.22. Specify a solver to silence this warning.\n",
      "  FutureWarning)\n",
      "/home/yacine/anaconda3/lib/python3.7/site-packages/sklearn/linear_model/logistic.py:432: FutureWarning: Default solver will be changed to 'lbfgs' in 0.22. Specify a solver to silence this warning.\n",
      "  FutureWarning)\n",
      "/home/yacine/anaconda3/lib/python3.7/site-packages/sklearn/linear_model/logistic.py:432: FutureWarning: Default solver will be changed to 'lbfgs' in 0.22. Specify a solver to silence this warning.\n",
      "  FutureWarning)\n",
      "/home/yacine/anaconda3/lib/python3.7/site-packages/sklearn/linear_model/logistic.py:432: FutureWarning: Default solver will be changed to 'lbfgs' in 0.22. Specify a solver to silence this warning.\n",
      "  FutureWarning)\n",
      "/home/yacine/anaconda3/lib/python3.7/site-packages/sklearn/linear_model/logistic.py:432: FutureWarning: Default solver will be changed to 'lbfgs' in 0.22. Specify a solver to silence this warning.\n",
      "  FutureWarning)\n",
      "/home/yacine/anaconda3/lib/python3.7/site-packages/sklearn/linear_model/logistic.py:432: FutureWarning: Default solver will be changed to 'lbfgs' in 0.22. Specify a solver to silence this warning.\n",
      "  FutureWarning)\n"
     ]
    },
    {
     "name": "stdout",
     "output_type": "stream",
     "text": [
      "Accuracies:  [0.6666666666666666, 0.4166666666666667, 0.6923076923076923, 0.9444444444444444, 0.5294117647058824, 0.7272727272727273, 0.7142857142857143, 0.55, 0.8181818181818182, 0.68, 0.5384615384615384, 0.6470588235294118, 0.6153846153846154, 0.8636363636363636, 0.65, 0.6842105263157895, 0.8888888888888888, 0.5, 0.43478260869565216, 0.8, 0.5, 0.8421052631578947, 0.95, 0.92, 0.6896551724137931, 0.7222222222222222, 0.9523809523809523, 0.6666666666666666, 0.3333333333333333, 0.8, 0.5238095238095238, 0.6, 0.6111111111111112, 0.6744186046511628, 0.6363636363636364, 0.8095238095238095, 0.7, 0.4444444444444444, 0.6363636363636364, 0.36666666666666664, 0.7083333333333334, 0.7058823529411765, 0.7307692307692307, 0.4117647058823529, 0.875, 0.5625, 0.9230769230769231, 0.47058823529411764, 0.5384615384615384, 0.4117647058823529, 0.375, 0.625, 0.7692307692307693]\n"
     ]
    },
    {
     "data": {
      "image/png": "[encoded data removed]",
      "text/plain": [
       "<Figure size 432x288 with 1 Axes>"
      ]
     },
     "metadata": {
      "needs_background": "light"
     },
     "output_type": "display_data"
    },
    {
     "name": "stdout",
     "output_type": "stream",
     "text": [
      "Mean Accuracies: 0.6575112773098967\n"
     ]
    }
   ],
   "source": [
    "# Notes:\n",
    "# The MSK participants are very long to run since there are a lots of participants\n",
    "# We will pause this and go with the Healthy participant for now\n",
    "participant_type = \"MSK\" #HEALTHY, MSK or BOTH\n",
    "\n",
    "gs = create_gridsearch_pipeline()\n",
    "X,y,group,df = pre_process(input_filename, participant_type)\n",
    "clf = LogisticRegression(penalty=\"l1\", C=2.7825594022071245)\n",
    "pipe = Pipeline([\n",
    "    ('imputer', SimpleImputer(missing_values=np.nan, strategy='mean')),\n",
    "    ('scaler', StandardScaler()),\n",
    "    ('clf', clf)])\n",
    "accuracies = classify_loso(X, y, group, pipe)\n",
    "#accuracies, best_params = classify_loso_model_selection(X, y, group, gs)\n",
    "\n",
    "print(\"Accuracies: \", str(accuracies))\n",
    "plot_acc(group, accuracies, participant_type)\n",
    "print(\"Mean Accuracies: \" + str(np.mean(accuracies)))"
   ]
  },
  {
   "cell_type": "code",
   "execution_count": 10,
   "metadata": {},
   "outputs": [
    {
     "data": {
      "text/plain": [
       "{'LOG_penality=l2_C=2.7825594022071245': 11, 'SVC_kernel=linear_C=1000': 1}"
      ]
     },
     "execution_count": 10,
     "metadata": {},
     "output_type": "execute_result"
    }
   ],
   "source": [
    "# Find te best model by looking at the occurence of the model parameters\n",
    "model_occurence = find_best_model(best_params)\n",
    "model_occurence"
   ]
  },
  {
   "cell_type": "code",
   "execution_count": 12,
   "metadata": {},
   "outputs": [
    {
     "name": "stderr",
     "output_type": "stream",
     "text": [
      "/home/yacine/anaconda3/lib/python3.7/site-packages/sklearn/linear_model/logistic.py:432: FutureWarning: Default solver will be changed to 'lbfgs' in 0.22. Specify a solver to silence this warning.\n",
      "  FutureWarning)\n"
     ]
    },
    {
     "data": {
      "image/png": "[encoded data removed]",
      "text/plain": [
       "<Figure size 432x288 with 1 Axes>"
      ]
     },
     "metadata": {
      "needs_background": "light"
     },
     "output_type": "display_data"
    }
   ],
   "source": [
    "# Once we know the model occurence we can train the best model on the full dataset\n",
    "clf = LogisticRegression(penalty=\"l1\", C=2.7825594022071245)\n",
    "pipe = Pipeline([\n",
    "    ('imputer', SimpleImputer(missing_values=np.nan, strategy='mean')),\n",
    "    ('scaler', StandardScaler()),\n",
    "    ('clf', clf)])\n",
    "pipe.fit(X, y)\n",
    "clf = pipe.steps[2][1]\n",
    "feature_weights = clf.coef_[0]\n",
    "\n",
    "\n",
    "feature_df = df.drop(['id', 'type', 'is_hot'], axis=1)\n",
    "feature_names = list(feature_df.columns.values)\n",
    "\n",
    "ax = sns.barplot(x=feature_names, y=feature_weights)\n",
    "plt.show()\n",
    "\n",
    "# Here there might be some cool visualization we cool do by looking only at a per bandpass basis\n",
    "# or grouping the bandpass together to have four bar"
   ]
  },
  {
   "cell_type": "code",
   "execution_count": 15,
   "metadata": {},
   "outputs": [
    {
     "data": {
      "text/plain": [
       "76"
      ]
     },
     "execution_count": 15,
     "metadata": {},
     "output_type": "execute_result"
    }
   ],
   "source": [
    "19*4"
   ]
  },
  {
   "cell_type": "code",
   "execution_count": null,
   "metadata": {},
   "outputs": [],
   "source": []
  }
 ],
 "metadata": {
  "kernelspec": {
   "display_name": "Python 3",
   "language": "python",
   "name": "python3"
  },
  "language_info": {
   "codemirror_mode": {
    "name": "ipython",
    "version": 3
   },
   "file_extension": ".py",
   "mimetype": "text/x-python",
   "name": "python",
   "nbconvert_exporter": "python",
   "pygments_lexer": "ipython3",
   "version": "3.7.4"
  }
 },
 "nbformat": 4,
 "nbformat_minor": 2
}
