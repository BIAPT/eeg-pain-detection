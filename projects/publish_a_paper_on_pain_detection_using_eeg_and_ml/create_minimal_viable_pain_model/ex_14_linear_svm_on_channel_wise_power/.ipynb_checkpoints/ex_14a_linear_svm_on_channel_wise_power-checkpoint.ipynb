{
 "cells": [
  {
   "cell_type": "markdown",
   "metadata": {},
   "source": [
    "# Yacine Mahdid March 28 2020\n",
    "This notebook is directly addressing this task: [Github Link for the task](https://github.com/BIAPT/eeg-pain-detection/issues/14)\n",
    "\n",
    "This notebook is an augmented version of this other one from the [previous milestone](https://github.com/BIAPT/eeg-pain-detection/blob/master/projects/publish_a_paper_on_pain_detection_using_eeg_and_ml/first_cross_validated_ml_model/experiment_7_first_naive_classifier.ipynb).\n",
    "\n",
    "We will only be using a linear support vector machine from sklearn: [documentation is here](https://scikit-learn.org/stable/modules/generated/sklearn.svm.LinearSVC.html)\n",
    "\n",
    "The cross validation scheme we will be using is a leave one subject out cross validation. We'll assess the classifier performance using accuracy.\n",
    "\n",
    "For the NaN values we will just set them to 0 for now."
   ]
  },
  {
   "cell_type": "code",
   "execution_count": 33,
   "metadata": {},
   "outputs": [
    {
     "name": "stdout",
     "output_type": "stream",
     "text": [
      "testing 1\n",
      "testing 2\n",
      "testing 3\n",
      "testing 4\n",
      "testing 5\n",
      "testing 6\n",
      "testing 8\n",
      "testing 9\n",
      "testing 10\n",
      "testing 11\n",
      "testing 12\n",
      "testing 13\n",
      "0.5381087968291647\n"
     ]
    }
   ],
   "source": [
    "import numpy as np\n",
    "import pandas as pd\n",
    "from sklearn.svm import SVC\n",
    "from sklearn.metrics import accuracy_score\n",
    "\n",
    "# Viz\n",
    "import seaborn as sns\n",
    "import matplotlib.pyplot as plt\n",
    "\n",
    "# Setup\n",
    "input_filename = '/media/yacine/Data/pain_and_eeg/machine_learning_data/data.csv'\n",
    "\n",
    "# Experimental Variables\n",
    "is_healthy = 1\n",
    "clf = SVC(gamma='auto')\n",
    "\n",
    "# Load the data and select the right population\n",
    "df = pd.read_csv(input_filename)\n",
    "df = df[df.type == is_healthy]\n",
    "\n",
    "p_ids = df.id.unique();\n",
    "accuracies = []\n",
    "\n",
    "df = df.fillna(0)\n",
    "df = df.drop(['Unnamed: 22'], axis=1)\n",
    "\n",
    "for p_id in p_ids:\n",
    "    print(\"testing \" + str(p_id))\n",
    "    mask = df.id.isin([p_id])\n",
    "    \n",
    "    df_test = df[mask]\n",
    "    df_train = df[~mask]\n",
    "    \n",
    "    X_train = df_train.drop(['id', 'type', 'is_hot'], axis=1)\n",
    "    y_train = df_train.is_hot\n",
    "    X_test = df_test.drop(['id', 'type', 'is_hot'], axis=1)\n",
    "    y_test = df_test.is_hot\n",
    "    \n",
    "    \n",
    "    clf.fit(X_train, y_train)\n",
    "    y_pred = clf.predict(X_test)\n",
    "    \n",
    "    accuracy = accuracy_score(y_test, y_pred)\n",
    "    accuracies.append(accuracy)\n",
    "    \n",
    "print(np.mean(accuracies))"
   ]
  },
  {
   "cell_type": "markdown",
   "metadata": {},
   "source": [
    "# Results Naive Approach\n",
    "We have the following results for the training of the Linear SVM\n",
    "- Healthy : accuracy = 54.784 %\n",
    "- MSK : accuracy = 57.63 %\n",
    "- Both : accuracy = 56.18 %\n",
    "\n",
    "Both represent an improvement over what we had before with only one feature. \n",
    "There are a few thing to investigate here before calling it a day:\n",
    "1. What is the number of participant in each class\n",
    "2. What is the number of window for baseline and hot\n",
    "3. Would normalizing the data help the classification? ([Hint: Yes it does](https://neerajkumar.org/writings/svm/))\n",
    "4. What is the effect of the different type of missing number filling on the accuracy\n",
    "5. Would doing hyperparameters tuning with GridSearch help in the classification?\n",
    "\n",
    "These steps will be addressed below"
   ]
  },
  {
   "cell_type": "code",
   "execution_count": 34,
   "metadata": {},
   "outputs": [
    {
     "name": "stdout",
     "output_type": "stream",
     "text": [
      "Healthy participant ids:  [ 1  2  3  4  5  6  8  9 10 11 12 13]\n",
      "Number of Healthy participant:  12\n",
      "MSK participant ids:  [ 1  2  3  4  5  6  7  8  9 10 11 12 13 14 15 16 17 18 20 21 22 23 24 25\n",
      " 26 27 28 29 30 31 32 33 35 36 37 38 39 41 43 44 45 47 49 51 54 55 57 58\n",
      " 60 61 62 63 64]\n",
      "Number of MSK participant:  53\n"
     ]
    },
    {
     "data": {
      "image/png": "[encoded data removed]",
      "text/plain": [
       "<Figure size 432x288 with 1 Axes>"
      ]
     },
     "metadata": {
      "needs_background": "light"
     },
     "output_type": "display_data"
    }
   ],
   "source": [
    "# What is the number of participant in each class\n",
    "df = pd.read_csv(input_filename) \n",
    "is_healthy = 1\n",
    "healthy_df = df[df.type == is_healthy]\n",
    "msk_df = df[df.type != is_healthy]\n",
    "\n",
    "num_healthy = len(healthy_df.id.unique())\n",
    "num_msk = len(msk_df.id.unique())\n",
    "print(\"Healthy participant ids: \", healthy_df.id.unique())\n",
    "print(\"Number of Healthy participant: \" , num_healthy)\n",
    "print(\"MSK participant ids: \", msk_df.id.unique())\n",
    "print(\"Number of MSK participant: \", num_msk)\n",
    "\n",
    "# Making a barplot figure of the amount in each\n",
    "x = np.array(['Healthy', 'MSK'])\n",
    "y = np.array([num_healthy, num_msk])\n",
    "sns.barplot(x=x, y=y, palette=\"deep\").set_title('Num Participant in MSK and Healthy Class')\n",
    "plt.show()"
   ]
  },
  {
   "cell_type": "code",
   "execution_count": 35,
   "metadata": {},
   "outputs": [
    {
     "name": "stdout",
     "output_type": "stream",
     "text": [
      "Num Window in Each State for Healthy\n",
      "Number window baseline:  1152\n",
      "Number window hot:  1131\n",
      "Ratio baseline/hot:  1.0185676392572944\n"
     ]
    },
    {
     "data": {
      "image/png": "[encoded data removed]",
      "text/plain": [
       "<Figure size 432x288 with 1 Axes>"
      ]
     },
     "metadata": {
      "needs_background": "light"
     },
     "output_type": "display_data"
    },
    {
     "name": "stdout",
     "output_type": "stream",
     "text": [
      "Num Window in Each State for MSK\n",
      "Number window baseline:  5446\n",
      "Number window hot:  4867\n",
      "Ratio baseline/hot:  1.1189644544894186\n"
     ]
    },
    {
     "data": {
      "image/png": "[encoded data removed]",
      "text/plain": [
       "<Figure size 432x288 with 1 Axes>"
      ]
     },
     "metadata": {
      "needs_background": "light"
     },
     "output_type": "display_data"
    },
    {
     "name": "stdout",
     "output_type": "stream",
     "text": [
      "Num Window in Each State for Both Healthy and MSK\n",
      "Number window baseline:  6598\n",
      "Number window hot:  5998\n",
      "Ratio baseline/hot:  1.1000333444481494\n"
     ]
    },
    {
     "data": {
      "image/png": "[encoded data removed]",
      "text/plain": [
       "<Figure size 432x288 with 1 Axes>"
      ]
     },
     "metadata": {
      "needs_background": "light"
     },
     "output_type": "display_data"
    }
   ],
   "source": [
    "# What is the number of window for baseline and hot\n",
    "# For this we need three plots: one for healthy, one for msk and one for both together\n",
    "df = pd.read_csv(input_filename) \n",
    "is_healthy = 1\n",
    "\n",
    "# The three dataframe of interest\n",
    "healthy_df = df[df.type == is_healthy]\n",
    "msk_df = df[df.type != is_healthy]\n",
    "both_df = df\n",
    "\n",
    "def show_window_stats(df, title):\n",
    "    '''\n",
    "        helper function to print the statistic about the amount\n",
    "        of windows in the dataframe for each state\n",
    "    '''\n",
    "    num_window_baseline = len(df[df.is_hot == 0].id)\n",
    "    num_window_hot = len(df[df.is_hot == 1].id)\n",
    "\n",
    "    print(title)\n",
    "    print(\"Number window baseline: \", num_window_baseline)\n",
    "    print(\"Number window hot: \", num_window_hot)\n",
    "    print(\"Ratio baseline/hot: \", num_window_baseline/num_window_hot)\n",
    "    x = np.array(['Baseline', 'Hot'])\n",
    "    y = np.array([num_window_baseline, num_window_hot])\n",
    "    sns.barplot(x=x, y=y, palette=\"deep\").set_title(title)\n",
    "    plt.show()\n",
    "\n",
    "# Healthy\n",
    "show_window_stats(healthy_df, 'Num Window in Each State for Healthy')\n",
    "# Note: It's rougly similar but not exactly, should take that into consideration when doing the training\n",
    "\n",
    "# MSK\n",
    "show_window_stats(msk_df, 'Num Window in Each State for MSK')\n",
    "# Note: It's still roughly similar but 1.15% difference is non-negligeable\n",
    "\n",
    "show_window_stats(both_df, 'Num Window in Each State for Both Healthy and MSK')\n",
    "# Note: Still in the same range which is not suprising"
   ]
  },
  {
   "cell_type": "code",
   "execution_count": 37,
   "metadata": {},
   "outputs": [
    {
     "name": "stdout",
     "output_type": "stream",
     "text": [
      "Classification of MSK: \n",
      "Test: 1\n",
      "Test: 2\n",
      "Test: 3\n",
      "Test: 4\n",
      "Test: 5\n",
      "Test: 6\n",
      "Test: 7\n",
      "Test: 8\n",
      "Test: 9\n",
      "Test: 10\n",
      "Test: 11\n",
      "Test: 12\n",
      "Test: 13\n",
      "Test: 14\n",
      "Test: 15\n",
      "Test: 16\n",
      "Test: 17\n",
      "Test: 18\n",
      "Test: 20\n",
      "Test: 21\n",
      "Test: 22\n",
      "Test: 23\n",
      "Test: 24\n",
      "Test: 25\n",
      "Test: 26\n",
      "Test: 27\n",
      "Test: 28\n",
      "Test: 29\n",
      "Test: 30\n",
      "Test: 31\n",
      "Test: 32\n",
      "Test: 33\n",
      "Test: 35\n",
      "Test: 36\n",
      "Test: 37\n",
      "Test: 38\n",
      "Test: 39\n",
      "Test: 41\n",
      "Test: 43\n",
      "Test: 44\n",
      "Test: 45\n",
      "Test: 47\n",
      "Test: 49\n",
      "Test: 51\n",
      "Test: 54\n",
      "Test: 55\n",
      "Test: 57\n",
      "Test: 58\n",
      "Test: 60\n",
      "Test: 61\n",
      "Test: 62\n",
      "Test: 63\n",
      "Test: 64\n",
      "Mean MSK Accuracy: 0.5684604793728579\n"
     ]
    },
    {
     "data": {
      "image/png": "[encoded data removed]",
      "text/plain": [
       "<Figure size 432x288 with 1 Axes>"
      ]
     },
     "metadata": {
      "needs_background": "light"
     },
     "output_type": "display_data"
    }
   ],
   "source": [
    "# Would normalizing the data help the classification?\n",
    "# Some documentation on the subject: https://neerajkumar.org/writings/svm/\n",
    "# We should do a soft normalization with (mean - x)/*std and train our normalizer on the training data\n",
    "from sklearn.preprocessing import StandardScaler\n",
    "\n",
    "# We will bundle our classification loop into it's own function\n",
    "def classification_norm(df):\n",
    "\n",
    "    # Classifier we want to use for now\n",
    "    clf = SVC(gamma='auto')\n",
    "    scaler = StandardScaler()\n",
    "    \n",
    "    p_ids = df.id.unique();\n",
    "    accuracies = []\n",
    "\n",
    "    df = df.drop(['Unnamed: 22'], axis=1)\n",
    "    df = df.fillna(0) # we keep filling NaN values with 0\n",
    "    \n",
    "    for p_id in p_ids:\n",
    "        print(\"Test: \" + str(p_id))\n",
    "        mask = df.id.isin([p_id])\n",
    "\n",
    "        df_test = df[mask]\n",
    "        df_train = df[~mask]\n",
    "\n",
    "        X_train = df_train.drop(['id', 'type', 'is_hot'], axis=1)\n",
    "        scaler.fit(X_train) # we fit it ONLY on the training data to not have information leakage\n",
    "        \n",
    "        X_train = scaler.transform(X_train)\n",
    "        \n",
    "        y_train = df_train.is_hot\n",
    "                \n",
    "        X_test = df_test.drop(['id', 'type', 'is_hot'], axis=1)\n",
    "        X_test = scaler.transform(X_test) # Here we use the trained scaler on the test set\n",
    "        y_test = df_test.is_hot\n",
    "\n",
    "        clf.fit(X_train, y_train)\n",
    "        y_pred = clf.predict(X_test)\n",
    "        \n",
    "        accuracy = accuracy_score(y_test, y_pred)\n",
    "        accuracies.append(accuracy)\n",
    "        \n",
    "    return accuracies\n",
    "\n",
    "# Read the data again\n",
    "df = pd.read_csv(input_filename) \n",
    "is_healthy = 1\n",
    "\n",
    "# The three dataframe of interest\n",
    "healthy_df = df[df.type == is_healthy]\n",
    "msk_df = df[df.type != is_healthy]\n",
    "both_df = df\n",
    "\n",
    "def classify_and_show_stats(df, participant_type):\n",
    "    print(f\"Classification of {participant_type}: \")\n",
    "    acc = classification_norm(df)\n",
    "    mean_acc = np.mean(acc)\n",
    "    print(f\"Mean {participant_type} Accuracy: {mean_acc}\")    \n",
    "\n",
    "    # Plot of Each Participant Accuracies in the Cross Validation Scheme\n",
    "    x = np.array(df.id.unique())\n",
    "    y = np.array(acc)\n",
    "    sns.barplot(x=x, y=y, palette=\"deep\").set_title(f\"Accuracy for each participant in {participant_type}\")\n",
    "    plt.show()\n",
    "    \n",
    "\n",
    "# Classify and show the statistic for healthy, msk and both of them together\n",
    "#classify_and_show_stats(healthy_df, \"Healthy\")\n",
    "classify_and_show_stats(msk_df, \"MSK\")\n",
    "#classify_and_show_stats(both_df, \"Both\")\n",
    "\n",
    "# Note: We have a worsening of the classification for the healthy class because of participant #7\n",
    "# It sinks the classification since it gives us a 0% in accuracy which is weird.\n",
    "# This should be investigated further\n",
    "# We furthermore have participant way above the 50% mark and some below, for MSK we also have very poor participants.\n",
    "# Something might be up with their respective EEG and should be investigated further.\n",
    "# All in all we get only marginal improvement for the classification while normalizing, however this is a good thing to do for SVM."
   ]
  },
  {
   "cell_type": "code",
   "execution_count": 9,
   "metadata": {},
   "outputs": [
    {
     "name": "stderr",
     "output_type": "stream",
     "text": [
      "/home/yacine/anaconda3/lib/python3.7/site-packages/ipykernel_launcher.py:6: UserWarning: Boolean Series key will be reindexed to match DataFrame index.\n",
      "  \n",
      "/home/yacine/anaconda3/lib/python3.7/site-packages/ipykernel_launcher.py:7: UserWarning: Boolean Series key will be reindexed to match DataFrame index.\n",
      "  import sys\n"
     ]
    },
    {
     "data": {
      "image/png": "[encoded data removed]",
      "text/plain": [
       "<Figure size 432x288 with 1 Axes>"
      ]
     },
     "metadata": {
      "needs_background": "light"
     },
     "output_type": "display_data"
    }
   ],
   "source": [
    "# What is the proportion of baseline and hot windows for each participants?\n",
    "# We will iterate over the\n",
    "participant_ids = df.id.unique()\n",
    "ratios = []\n",
    "for identity in participant_ids:\n",
    "    num_window_healthy = len(df[df.id == identity][df.is_hot == 0])\n",
    "    num_window_hot = len(df[df.id == identity][df.is_hot == 1])\n",
    "    if num_window_hot == 0:\n",
    "        ratios.append(-1)\n",
    "    else:\n",
    "        ratios.append(num_window_healthy/num_window_hot)\n",
    "    \n",
    "    \n",
    "x = np.array(df.id.unique())\n",
    "y = np.array(ratios)\n",
    "sns.barplot(x=x, y=y, palette=\"deep\").set_title(f\"Healthy/Hot Window Ratio for all participant.\")\n",
    "plt.show()\n",
    "\n",
    "# Note:\n",
    "# Most participant have more Hot than Healthy, but there are some that have way more Healthy than Hot.\n",
    "# There are some that have very few data points or no data points for Hot or Healthy, this might lead to poor classification."
   ]
  },
  {
   "cell_type": "code",
   "execution_count": 41,
   "metadata": {},
   "outputs": [
    {
     "name": "stdout",
     "output_type": "stream",
     "text": [
      "Classification of MSK: \n",
      "[0.46608527 0.50484496 0.51647287 0.5125969  0.51550388 0.55329457\n",
      " 0.50048497 0.31067961 0.32912621 0.49417476]\n",
      "Mean MSK Accuracy: 0.4703263998189051\n"
     ]
    }
   ],
   "source": [
    "# Pitfalls we need to be aware of when working with EEG data -> not doing a LOSO cross validation scheme\n",
    "from sklearn.preprocessing import StandardScaler\n",
    "from sklearn.model_selection import cross_val_score\n",
    "from sklearn.pipeline import Pipeline\n",
    "\n",
    "# We will bundle our classification loop into it's own function\n",
    "def classification_norm(df):\n",
    "\n",
    "    # Classifier we want to use for now\n",
    "    clf = SVC(gamma='auto')\n",
    "    scaler = StandardScaler()\n",
    "    \n",
    "    p_ids = df.id.unique();\n",
    "    accuracies = []\n",
    "\n",
    "    df = df.drop(['Unnamed: 22'], axis=1)\n",
    "    df = df.fillna(0) # we keep filling NaN values with 0\n",
    "    \n",
    "    X = df.drop(['id', 'type', 'is_hot'], axis=1)\n",
    "    y = df.is_hot\n",
    "    \n",
    "    standard_svm_clf = Pipeline([('scaler', scaler), ('svc', clf)])\n",
    "    scores = cross_val_score(standard_svm_clf, X, y, cv=10) # like in that cold paper\n",
    "    print(scores)\n",
    "    return scores\n",
    "\n",
    "# Read the data again\n",
    "df = pd.read_csv(input_filename) \n",
    "is_healthy = 1\n",
    "\n",
    "# The three dataframe of interest\n",
    "healthy_df = df[df.type == is_healthy]\n",
    "msk_df = df[df.type != is_healthy]\n",
    "both_df = df\n",
    "\n",
    "def classify_and_show_stats(df, participant_type):\n",
    "    print(f\"Classification of {participant_type}: \")\n",
    "    acc = classification_norm(df)\n",
    "    mean_acc = np.mean(acc)\n",
    "    print(f\"Mean {participant_type} Accuracy: {mean_acc}\")    \n",
    "\n",
    "    # Plot of Each Participant Accuracies in the Cross Validation Scheme\n",
    "    #x = np.array(df.id.unique())\n",
    "    #y = np.array(acc)\n",
    "    #sns.barplot(x=x, y=y, palette=\"deep\").set_title(f\"Accuracy for each participant in {participant_type}\")\n",
    "    #plt.show()\n",
    "    \n",
    "\n",
    "# Classify and show the statistic for healthy, msk and both of them together\n",
    "#classify_and_show_stats(healthy_df, \"Healthy\")\n",
    "classify_and_show_stats(msk_df, \"MSK\")\n",
    "#classify_and_show_stats(both_df, \"Both\")\n"
   ]
  },
  {
   "cell_type": "code",
   "execution_count": null,
   "metadata": {},
   "outputs": [],
   "source": []
  }
 ],
 "metadata": {
  "kernelspec": {
   "display_name": "Python 3",
   "language": "python",
   "name": "python3"
  },
  "language_info": {
   "codemirror_mode": {
    "name": "ipython",
    "version": 3
   },
   "file_extension": ".py",
   "mimetype": "text/x-python",
   "name": "python",
   "nbconvert_exporter": "python",
   "pygments_lexer": "ipython3",
   "version": "3.7.4"
  }
 },
 "nbformat": 4,
 "nbformat_minor": 2
}
