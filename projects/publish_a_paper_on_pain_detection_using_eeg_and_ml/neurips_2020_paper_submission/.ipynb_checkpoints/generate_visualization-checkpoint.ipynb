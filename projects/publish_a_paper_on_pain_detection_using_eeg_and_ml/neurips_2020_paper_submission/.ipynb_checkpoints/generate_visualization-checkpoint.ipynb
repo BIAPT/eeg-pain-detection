{
 "cells": [
  {
   "cell_type": "markdown",
   "metadata": {},
   "source": [
    "## Yacine Mahdid May 30 2020\n",
    "The goal of this notebook is to generate the visualization from the results gathered in the first phase. This step is separated from result generation as we don't need lots of computing power for visualization.\n",
    "\n",
    "### Steps:\n",
    "- [ ] Double check that all the results are in the right format and can be unpickled\n",
    "- [ ] Generate Violin plot for the bootstrap confidence interval\n",
    "- [ ] Generate Feature importance plot\n"
   ]
  },
  {
   "cell_type": "code",
   "execution_count": 61,
   "metadata": {},
   "outputs": [],
   "source": [
    "import pickle\n",
    "import seaborn as sns\n",
    "import pandas as pd\n",
    "import matplotlib.pyplot as plt\n",
    "\n",
    "from ml_tools.classification import load_pickle\n",
    "\n",
    "# Double checking that all the results are in the right format and can be unpickled\n",
    "input_dir = '/home/yacine/Documents/BIAPT/eeg_pain_result/'\n",
    "output_dir = '/home/yacine/Documents/BIAPT/eeg_pain_result/'\n",
    "\n",
    "# Basic information\n",
    "features_filename = input_dir + 'features_all.csv'\n",
    "\n",
    "# Clf performance\n",
    "acc_filename = input_dir + 'accuracies_result.pickle'\n",
    "f1_filename = input_dir + 'f1s_result.pickle'\n",
    "\n",
    "# Clf validation\n",
    "best_params_filename = input_dir + 'best_params.pickle'\n",
    "bootstrap_filename = input_dir + 'bootstrap.pickle'\n",
    "permutation_filename = input_dir + 'permutation_test.pickle'\n",
    "\n",
    "# Final Clf explanability information\n",
    "clf_filename = input_dir + 'trained_gs.pickle'\n",
    "features_weight_filename = input_dir + 'features.pickle'\n"
   ]
  },
  {
   "cell_type": "code",
   "execution_count": 46,
   "metadata": {},
   "outputs": [],
   "source": [
    "# Original dataframe used to generate the result\n",
    "df = pd.read_csv(features_filename)"
   ]
  },
  {
   "cell_type": "code",
   "execution_count": 32,
   "metadata": {},
   "outputs": [],
   "source": [
    "accuracies = load_pickle(acc_filename)\n",
    "f1s = load_pickle(f1_filename)"
   ]
  },
  {
   "cell_type": "code",
   "execution_count": 33,
   "metadata": {},
   "outputs": [],
   "source": [
    "# Will need to double check how I'm doing this I'm getting difficult to parse result\n",
    "best_params = load_pickle(best_params_filename)\n",
    "\n",
    "# This is a dictionary with two key: distribution and interval\n",
    "bootstrap = load_pickle(bootstrap_filename)\n",
    "#bootstrap['distribution']\n",
    "#bootstrap['interval']\n",
    "\n",
    "# This is the n run of the permutation testing\n",
    "permutation = load_pickle(permutation_filename)"
   ]
  },
  {
   "cell_type": "code",
   "execution_count": 34,
   "metadata": {},
   "outputs": [],
   "source": [
    "# Trained classifier (Where is this one coming from?)\n",
    "clf = load_pickle(clf_filename)"
   ]
  },
  {
   "cell_type": "code",
   "execution_count": 83,
   "metadata": {},
   "outputs": [
    {
     "name": "stdout",
     "output_type": "stream",
     "text": [
      "(0.48067093304965963, 0.4677849308869647, 0.4385926191686491, 0.4373688523912107, 0.4171375293816617, 0.4149404373972625, 0.3866374269059217, 0.3496570745066867, 0.34264308220120865, 0.3353265565403721)\n",
      "('o1_beta_power', 'c3_delta_power', 'o2_beta_power', 'o1_alpha_power', 't3_alpha_power', 'fz_theta_power', 't5_theta_power', 't3_theta_power', 'p4_beta_power', 't5_beta_power')\n"
     ]
    },
    {
     "data": {
      "image/png": "[encoded data removed]",
      "text/plain": [
       "<Figure size 432x288 with 1 Axes>"
      ]
     },
     "metadata": {
      "needs_background": "light"
     },
     "output_type": "display_data"
    }
   ],
   "source": [
    "# This might be better as a dataframe\n",
    "features_weight = load_pickle(features_weight_filename)\n",
    "len(features_weight['weight'])\n",
    "\n",
    "def f_importances(coef, names, fig_name, top=-1):\n",
    "    imp = abs(coef)\n",
    "    imp,names = zip(*sorted(zip(imp,names), reverse=True))\n",
    "    \n",
    "    # Show all features\n",
    "    if top == -1:\n",
    "        top = len(names)\n",
    "        \n",
    "    plt.barh(range(top), imp[0:top], align='center')\n",
    "    plt.yticks(range(top), names[0:top])\n",
    "    plt.title(f\"Top {top} Features Asbolute Weight\")\n",
    "    plt.xlabel(\"Weight Importance\")\n",
    "        \n",
    "    fig = plt.gcf()\n",
    "    plt.show()\n",
    "    fig.set_size_inches((8.5, 11), forward=False)\n",
    "    fig.savefig(fig_name, dpi=500)\n",
    "\n",
    "weight_importance_filename = output_dir + 'f_importance.png'\n",
    "f_importances(features_weight['weight'], features_weight['name'],  weight_importance_filename, 10)"
   ]
  },
  {
   "cell_type": "code",
   "execution_count": null,
   "metadata": {},
   "outputs": [],
   "source": []
  }
 ],
 "metadata": {
  "kernelspec": {
   "display_name": "Python 3",
   "language": "python",
   "name": "python3"
  },
  "language_info": {
   "codemirror_mode": {
    "name": "ipython",
    "version": 3
   },
   "file_extension": ".py",
   "mimetype": "text/x-python",
   "name": "python",
   "nbconvert_exporter": "python",
   "pygments_lexer": "ipython3",
   "version": "3.7.4"
  }
 },
 "nbformat": 4,
 "nbformat_minor": 2
}
